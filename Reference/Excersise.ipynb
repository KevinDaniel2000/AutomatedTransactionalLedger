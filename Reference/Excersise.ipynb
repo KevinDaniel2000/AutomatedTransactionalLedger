{
 "cells": [
  {
   "cell_type": "code",
   "execution_count": 3,
   "metadata": {},
   "outputs": [
    {
     "name": "stdout",
     "output_type": "stream",
     "text": [
      "Sorted array\n",
      "11\n",
      "12\n",
      "22\n",
      "25\n",
      "64\n"
     ]
    }
   ],
   "source": [
    "# Python program for implementation of Selection\n",
    "# Sort\n",
    "A = [64, 25, 12, 22, 11]\n",
    "#A = [\"b\",\"s\",\"a\"]\n",
    "\n",
    "# Traverse through all array elements\n",
    "for i in range(len(A)):\n",
    "\t# Find the minimum element in remaining\n",
    "\t# unsorted array\n",
    "\tmin_idx = i\n",
    "\t#print(\"min indx\",i)\n",
    "\t#print(i)\n",
    "#          value for j, iteration\n",
    "\tfor j in range(i+1, len(A)):\n",
    "\t\t#print(\"2nd i\",j)\n",
    "\t\tif A[min_idx] > A[j]:\n",
    "\t\t\tmin_idx = j\n",
    "\t# Swap the found minimum element with\n",
    "\t# the first element\t\n",
    "\t#print(\"outer\")\n",
    "\tA[i], A[min_idx] = A[min_idx], A[i]\n",
    "\n",
    "# Driver code to test above\n",
    "print (\"Sorted array\")\n",
    "for i in range(len(A)):\n",
    "\tprint(\"%d\" %A[i]),\n"
   ]
  },
  {
   "cell_type": "code",
   "execution_count": 68,
   "metadata": {},
   "outputs": [
    {
     "name": "stdout",
     "output_type": "stream",
     "text": [
      "[1, 2, 3]\n"
     ]
    }
   ],
   "source": [
    "b = [3,2,1]\n",
    "\n",
    "for i in range(len(b)):\n",
    "    for j in range(i+1,len(b)):\n",
    "        if b[i]>b[j]:\n",
    "            b[i],b[j]=b[j],b[i]\n",
    "print(b)"
   ]
  },
  {
   "cell_type": "code",
   "execution_count": 44,
   "metadata": {},
   "outputs": [
    {
     "name": "stdout",
     "output_type": "stream",
     "text": [
      "Element is present at index  3\n"
     ]
    }
   ],
   "source": [
    "# Python3 code to implement iterative Binary\n",
    "# Search.\n",
    "\n",
    "# It returns location of x in given array arr\n",
    "# if present, else returns -1\n",
    "\n",
    "# arr, unknown, index_start, value\n",
    "def binarySearch(arr, l, r, x):\n",
    "\n",
    "\twhile l <= r:\n",
    "\n",
    "\t\tmid = l + (r - l) // 2;\n",
    "\t\t\n",
    "\t\t# Check if x is present at mid\n",
    "\t\tif arr[mid] == x:\n",
    "\t\t\treturn mid\n",
    "\n",
    "\t\t# If x is greater, ignore left half\n",
    "\t\telif arr[mid] < x:\n",
    "\t\t\tl = mid + 1\n",
    "\n",
    "\t\t# If x is smaller, ignore right half\n",
    "\t\telse:\n",
    "\t\t\tr = mid - 1\n",
    "\t\n",
    "\t# If we reach here, then the element\n",
    "\t# was not present\n",
    "\treturn -1\n",
    "\n",
    "# Driver Code\n",
    "arr = [ 2, 3, 4, 10, 40]\n",
    "x = 10\n",
    "\n",
    "# Function call\n",
    "result = binarySearch(arr, 0, len(arr)-1, x)\n",
    "\n",
    "if result != -1:\n",
    "\tprint (\"Element is present at index % d\" % result)\n",
    "else:\n",
    "\tprint (\"Element is not present in array\")\n"
   ]
  },
  {
   "cell_type": "code",
   "execution_count": 27,
   "metadata": {},
   "outputs": [
    {
     "name": "stdout",
     "output_type": "stream",
     "text": [
      "True\n",
      "print if True\n",
      "4\n"
     ]
    }
   ],
   "source": [
    "a=1\n",
    "\n",
    "x = 1\n",
    "x == a\n",
    "print (x==a)\n",
    "\n",
    "while not x==a:\n",
    "    print(\"print if FALSE\")\n",
    "    break\n",
    "    \n",
    "while x==a:\n",
    "    print(\"print if True\")\n",
    "    break\n",
    "    \n",
    "b=3\n",
    "b+=1\n",
    "print(b) # just add instead of b=b+1"
   ]
  },
  {
   "cell_type": "code",
   "execution_count": 2,
   "metadata": {},
   "outputs": [
    {
     "ename": "ZeroDivisionError",
     "evalue": "division by zero",
     "output_type": "error",
     "traceback": [
      "\u001b[1;31m---------------------------------------------------------------------------\u001b[0m",
      "\u001b[1;31mZeroDivisionError\u001b[0m                         Traceback (most recent call last)",
      "\u001b[1;32m<ipython-input-2-5f312778a383>\u001b[0m in \u001b[0;36m<module>\u001b[1;34m\u001b[0m\n\u001b[0;32m      3\u001b[0m \u001b[1;33m\u001b[0m\u001b[0m\n\u001b[0;32m      4\u001b[0m \u001b[1;31m# perform division with 0\u001b[0m\u001b[1;33m\u001b[0m\u001b[1;33m\u001b[0m\u001b[1;33m\u001b[0m\u001b[0m\n\u001b[1;32m----> 5\u001b[1;33m \u001b[0ma\u001b[0m \u001b[1;33m=\u001b[0m \u001b[0mmarks\u001b[0m \u001b[1;33m/\u001b[0m \u001b[1;36m0\u001b[0m\u001b[1;33m\u001b[0m\u001b[1;33m\u001b[0m\u001b[0m\n\u001b[0m\u001b[0;32m      6\u001b[0m \u001b[0mprint\u001b[0m\u001b[1;33m(\u001b[0m\u001b[0ma\u001b[0m\u001b[1;33m)\u001b[0m\u001b[1;33m\u001b[0m\u001b[1;33m\u001b[0m\u001b[0m\n",
      "\u001b[1;31mZeroDivisionError\u001b[0m: division by zero"
     ]
    }
   ],
   "source": [
    "# initialize the amount variable\n",
    "marks = 10000\n",
    "\n",
    "# perform division with 0\n",
    "a = marks / 0\n",
    "print(a)\n"
   ]
  },
  {
   "cell_type": "code",
   "execution_count": 1,
   "metadata": {},
   "outputs": [
    {
     "name": "stdout",
     "output_type": "stream",
     "text": [
      "Fourth element = 2\n"
     ]
    }
   ],
   "source": [
    "a = [1, 2, 3]\n",
    "try:\n",
    "\t#print (\"Second element = %d\" %(a[1]))\n",
    "\t# Throws error since there are only 3 elements in array\n",
    "\tprint (\"Fourth element = %d\" %(a[1]))\n",
    "\n",
    "except IndexError:\n",
    "\tprint (\"An error occurred\")\n"
   ]
  },
  {
   "cell_type": "code",
   "execution_count": 39,
   "metadata": {},
   "outputs": [],
   "source": [
    "try:\n",
    "    x=[1,2,a]\n",
    "except SyntaxError:\n",
    "       print(\"hello\")"
   ]
  },
  {
   "cell_type": "code",
   "execution_count": 47,
   "metadata": {},
   "outputs": [
    {
     "name": "stdout",
     "output_type": "stream",
     "text": [
      "asssert\n"
     ]
    }
   ],
   "source": [
    "x = 1\n",
    "\n",
    "#if condition returns False, AssertionError is raised:\n",
    "try:\n",
    "    assert x == 2, \"x should be 'hello'\"\n",
    "except AssertionError:\n",
    "    print(\"asssert\")"
   ]
  },
  {
   "cell_type": "code",
   "execution_count": 3,
   "metadata": {},
   "outputs": [
    {
     "name": "stdout",
     "output_type": "stream",
     "text": [
      "2\n",
      "[1, 2, 3]\n"
     ]
    }
   ],
   "source": [
    "tuple_v = (1,2)\n",
    "list_v = [1,2]\n",
    "\n",
    "list_v.append(3)\n",
    "#tuple_v[0] = 1\n",
    "tmp= list_v[0] + tuple_v[0]\n",
    "print(tmp)\n",
    "print(list_v)"
   ]
  },
  {
   "cell_type": "code",
   "execution_count": 3,
   "metadata": {},
   "outputs": [
    {
     "name": "stdout",
     "output_type": "stream",
     "text": [
      "10\n",
      "10\n"
     ]
    }
   ],
   "source": [
    "a=int(input())\n",
    "print(a)"
   ]
  },
  {
   "cell_type": "code",
   "execution_count": 10,
   "metadata": {},
   "outputs": [
    {
     "name": "stdout",
     "output_type": "stream",
     "text": [
      "4\n"
     ]
    }
   ],
   "source": [
    "c= str(1234)\n",
    "type(c)\n",
    "print(len(c))"
   ]
  },
  {
   "cell_type": "code",
   "execution_count": 26,
   "metadata": {},
   "outputs": [
    {
     "ename": "NameError",
     "evalue": "name 'a' is not defined",
     "output_type": "error",
     "traceback": [
      "\u001b[1;31m---------------------------------------------------------------------------\u001b[0m",
      "\u001b[1;31mNameError\u001b[0m                                 Traceback (most recent call last)",
      "\u001b[1;32m<ipython-input-26-fdcc08bf7d69>\u001b[0m in \u001b[0;36m<module>\u001b[1;34m\u001b[0m\n\u001b[0;32m      4\u001b[0m     \u001b[1;32mreturn\u001b[0m \u001b[0mx\u001b[0m\u001b[1;33m,\u001b[0m \u001b[0my\u001b[0m\u001b[1;33m\u001b[0m\u001b[1;33m\u001b[0m\u001b[0m\n\u001b[0;32m      5\u001b[0m \u001b[1;32mdel\u001b[0m\u001b[1;33m(\u001b[0m\u001b[0ma\u001b[0m\u001b[1;33m,\u001b[0m\u001b[0mb\u001b[0m\u001b[1;33m)\u001b[0m\u001b[1;33m\u001b[0m\u001b[1;33m\u001b[0m\u001b[0m\n\u001b[1;32m----> 6\u001b[1;33m \u001b[0ma\u001b[0m\u001b[1;33m,\u001b[0m \u001b[0mb\u001b[0m\u001b[1;33m=\u001b[0m \u001b[0ma\u001b[0m\u001b[1;33m(\u001b[0m\u001b[1;33m)\u001b[0m\u001b[1;33m\u001b[0m\u001b[1;33m\u001b[0m\u001b[0m\n\u001b[0m\u001b[0;32m      7\u001b[0m \u001b[0mprint\u001b[0m\u001b[1;33m(\u001b[0m\u001b[0ma\u001b[0m\u001b[1;33m)\u001b[0m\u001b[1;33m\u001b[0m\u001b[1;33m\u001b[0m\u001b[0m\n\u001b[0;32m      8\u001b[0m \u001b[1;32mdel\u001b[0m\u001b[1;33m(\u001b[0m\u001b[0ma\u001b[0m\u001b[1;33m)\u001b[0m\u001b[1;33m\u001b[0m\u001b[1;33m\u001b[0m\u001b[0m\n",
      "\u001b[1;31mNameError\u001b[0m: name 'a' is not defined"
     ]
    }
   ],
   "source": [
    "def a():\n",
    "    x=1\n",
    "    y=2\n",
    "    return x, y\n",
    "del(a,b)\n",
    "a, b= a()\n",
    "print(a)\n",
    "del(a)"
   ]
  },
  {
   "cell_type": "code",
   "execution_count": 10,
   "metadata": {},
   "outputs": [
    {
     "ename": "TypeError",
     "evalue": "object of type 'int' has no len()",
     "output_type": "error",
     "traceback": [
      "\u001b[1;31m---------------------------------------------------------------------------\u001b[0m",
      "\u001b[1;31mTypeError\u001b[0m                                 Traceback (most recent call last)",
      "\u001b[1;32m<ipython-input-10-50a3e0bad4fb>\u001b[0m in \u001b[0;36m<module>\u001b[1;34m\u001b[0m\n\u001b[1;32m----> 1\u001b[1;33m \u001b[0mv\u001b[0m\u001b[1;33m=\u001b[0m\u001b[0mint\u001b[0m\u001b[1;33m(\u001b[0m\u001b[0minput\u001b[0m\u001b[1;33m(\u001b[0m\u001b[0mlen\u001b[0m\u001b[1;33m(\u001b[0m\u001b[1;36m4\u001b[0m\u001b[1;33m)\u001b[0m\u001b[1;33m)\u001b[0m\u001b[1;33m)\u001b[0m\u001b[1;33m\u001b[0m\u001b[1;33m\u001b[0m\u001b[0m\n\u001b[0m",
      "\u001b[1;31mTypeError\u001b[0m: object of type 'int' has no len()"
     ]
    }
   ],
   "source": [
    "v=int(input(len(4)))"
   ]
  },
  {
   "cell_type": "code",
   "execution_count": 11,
   "metadata": {},
   "outputs": [
    {
     "name": "stdout",
     "output_type": "stream",
     "text": [
      "4-digit number: 1\n",
      "4-digit number: 1234\n"
     ]
    }
   ],
   "source": [
    "while True:\n",
    "    try:\n",
    "        n = int(input('4-digit number: '))\n",
    "        if n in range(1000, 10000):\n",
    "            break\n",
    "    except:\n",
    "        pass"
   ]
  },
  {
   "cell_type": "code",
   "execution_count": 13,
   "metadata": {},
   "outputs": [
    {
     "name": "stdout",
     "output_type": "stream",
     "text": [
      "1\n"
     ]
    }
   ],
   "source": [
    "a=int(input())\n",
    "c=1\n",
    "assert type(a)== type(c)"
   ]
  },
  {
   "cell_type": "code",
   "execution_count": 12,
   "metadata": {},
   "outputs": [
    {
     "name": "stdout",
     "output_type": "stream",
     "text": [
      "4 4\n"
     ]
    }
   ],
   "source": [
    "a=1234\n",
    "b=str(a)\n",
    "print(len(b), len(b))"
   ]
  },
  {
   "cell_type": "code",
   "execution_count": 21,
   "metadata": {},
   "outputs": [
    {
     "name": "stdout",
     "output_type": "stream",
     "text": [
      "enter16\n",
      "6\n"
     ]
    }
   ],
   "source": [
    "b=[1,2]\n",
    "a = input(F\"enter{(b[0])}\")\n",
    "print(a)"
   ]
  },
  {
   "cell_type": "code",
   "execution_count": 13,
   "metadata": {},
   "outputs": [
    {
     "name": "stdout",
     "output_type": "stream",
     "text": [
      " hello + 1 + 2 =3\n"
     ]
    }
   ],
   "source": [
    "answer = int(input(F' hello + {b[0]} + {b[1]} ='))"
   ]
  },
  {
   "cell_type": "code",
   "execution_count": 24,
   "metadata": {},
   "outputs": [
    {
     "name": "stdout",
     "output_type": "stream",
     "text": [
      "entera\n",
      "REdo\n",
      "entera\n",
      "REdo\n",
      "entera\n",
      "REdo\n",
      "entery\n"
     ]
    }
   ],
   "source": [
    "while True:\n",
    "    b=input(\"enter\")\n",
    "    try:\n",
    "        assert (b==\"y\") or (b==\"n\")\n",
    "        #assert b ==\"n\"\n",
    "    except AssertionError:\n",
    "        print(\"REdo\")\n",
    "    else:\n",
    "        break"
   ]
  },
  {
   "cell_type": "code",
   "execution_count": null,
   "metadata": {},
   "outputs": [],
   "source": []
  },
  {
   "cell_type": "code",
   "execution_count": 17,
   "metadata": {},
   "outputs": [],
   "source": [
    "import tkinter as tk\n",
    "r = tk.Tk()\n",
    "r.title('Counting Seconds')\n",
    "button = tk.Button(r, text='Stop', width=25, command=r.destroy)\n",
    "button.pack()\n",
    "r.mainloop()\n"
   ]
  },
  {
   "cell_type": "code",
   "execution_count": 28,
   "metadata": {},
   "outputs": [
    {
     "ename": "TypeError",
     "evalue": "hello() takes 2 positional arguments but 3 were given",
     "output_type": "error",
     "traceback": [
      "\u001b[1;31m---------------------------------------------------------------------------\u001b[0m",
      "\u001b[1;31mTypeError\u001b[0m                                 Traceback (most recent call last)",
      "\u001b[1;32m<ipython-input-28-9c0a5a8cf140>\u001b[0m in \u001b[0;36m<module>\u001b[1;34m\u001b[0m\n\u001b[0;32m     10\u001b[0m \u001b[0mp1\u001b[0m \u001b[1;33m=\u001b[0m \u001b[0mPerson\u001b[0m\u001b[1;33m(\u001b[0m\u001b[1;34m\"John\"\u001b[0m\u001b[1;33m,\u001b[0m \u001b[1;36m36\u001b[0m\u001b[1;33m)\u001b[0m\u001b[1;33m\u001b[0m\u001b[1;33m\u001b[0m\u001b[0m\n\u001b[0;32m     11\u001b[0m \u001b[1;33m\u001b[0m\u001b[0m\n\u001b[1;32m---> 12\u001b[1;33m \u001b[0mprint\u001b[0m\u001b[1;33m(\u001b[0m\u001b[0mp1\u001b[0m\u001b[1;33m.\u001b[0m\u001b[0mhello\u001b[0m\u001b[1;33m(\u001b[0m\u001b[1;36m1\u001b[0m\u001b[1;33m,\u001b[0m\u001b[1;36m1\u001b[0m\u001b[1;33m)\u001b[0m\u001b[1;33m)\u001b[0m\u001b[1;33m\u001b[0m\u001b[1;33m\u001b[0m\u001b[0m\n\u001b[0m\u001b[0;32m     13\u001b[0m \u001b[1;31m#print(p1.A)\u001b[0m\u001b[1;33m\u001b[0m\u001b[1;33m\u001b[0m\u001b[1;33m\u001b[0m\u001b[0m\n",
      "\u001b[1;31mTypeError\u001b[0m: hello() takes 2 positional arguments but 3 were given"
     ]
    }
   ],
   "source": [
    "class Person:\n",
    "    def __init__(self, name, age):\n",
    "        self.name = name\n",
    "        self.age = age\n",
    "    def hello(n, a):\n",
    "        N=n\n",
    "        A=a\n",
    "        print(n, a)\n",
    "\n",
    "p1 = Person(\"John\", 36)\n",
    "\n",
    "print(p1.hello(1,1))\n",
    "#print(p1.A)"
   ]
  },
  {
   "cell_type": "code",
   "execution_count": 46,
   "metadata": {},
   "outputs": [
    {
     "name": "stdout",
     "output_type": "stream",
     "text": [
      "4\n"
     ]
    },
    {
     "data": {
      "text/plain": [
       "12"
      ]
     },
     "execution_count": 46,
     "metadata": {},
     "output_type": "execute_result"
    }
   ],
   "source": [
    "class Person:\n",
    "    x=2\n",
    "    def __hello__(self):\n",
    "        y = x+2\n",
    "        return y\n",
    "    def world(self):\n",
    "        z=x+10\n",
    "        return z\n",
    "obj= Person()\n",
    "asd=obj.__hello__()\n",
    "print(asd)\n",
    "\n",
    "obj.world()\n"
   ]
  },
  {
   "cell_type": "code",
   "execution_count": 35,
   "metadata": {},
   "outputs": [
    {
     "name": "stdout",
     "output_type": "stream",
     "text": [
      "2\n"
     ]
    }
   ],
   "source": [
    "qq=2\n",
    "def pr():\n",
    "    print(qq)\n",
    "pr()"
   ]
  },
  {
   "cell_type": "code",
   "execution_count": 1,
   "metadata": {},
   "outputs": [
    {
     "ename": "IndexError",
     "evalue": "list index out of range",
     "output_type": "error",
     "traceback": [
      "\u001b[1;31m---------------------------------------------------------------------------\u001b[0m",
      "\u001b[1;31mIndexError\u001b[0m                                Traceback (most recent call last)",
      "\u001b[1;32m<ipython-input-1-8cfeb3980b99>\u001b[0m in \u001b[0;36m<module>\u001b[1;34m\u001b[0m\n\u001b[0;32m      3\u001b[0m \u001b[1;33m\u001b[0m\u001b[0m\n\u001b[0;32m      4\u001b[0m \u001b[1;32mfor\u001b[0m \u001b[0mi\u001b[0m \u001b[1;32min\u001b[0m \u001b[0mrange\u001b[0m\u001b[1;33m(\u001b[0m\u001b[0mlen\u001b[0m\u001b[1;33m(\u001b[0m\u001b[0ma\u001b[0m\u001b[1;33m)\u001b[0m\u001b[1;33m)\u001b[0m\u001b[1;33m:\u001b[0m\u001b[1;33m\u001b[0m\u001b[1;33m\u001b[0m\u001b[0m\n\u001b[1;32m----> 5\u001b[1;33m     \u001b[1;32mif\u001b[0m \u001b[0ma\u001b[0m\u001b[1;33m[\u001b[0m\u001b[0mi\u001b[0m\u001b[1;33m]\u001b[0m\u001b[1;33m>\u001b[0m\u001b[0ma\u001b[0m\u001b[1;33m[\u001b[0m\u001b[0mi\u001b[0m\u001b[1;33m+\u001b[0m\u001b[1;36m1\u001b[0m\u001b[1;33m]\u001b[0m\u001b[1;33m:\u001b[0m\u001b[1;33m\u001b[0m\u001b[1;33m\u001b[0m\u001b[0m\n\u001b[0m\u001b[0;32m      6\u001b[0m         \u001b[0mb\u001b[0m\u001b[1;33m[\u001b[0m\u001b[0mi\u001b[0m\u001b[1;33m]\u001b[0m\u001b[1;33m=\u001b[0m\u001b[0ma\u001b[0m\u001b[1;33m[\u001b[0m\u001b[0mi\u001b[0m\u001b[1;33m+\u001b[0m\u001b[1;36m1\u001b[0m\u001b[1;33m]\u001b[0m\u001b[1;33m\u001b[0m\u001b[1;33m\u001b[0m\u001b[0m\n",
      "\u001b[1;31mIndexError\u001b[0m: list index out of range"
     ]
    }
   ],
   "source": [
    "a=[4,8,1,5,2]\n",
    "b=[0,0,0,0,0]\n",
    "\n",
    "for i in range(len(a)):\n",
    "    if a[i]>a[i+1]:\n",
    "        b[i]=a[i+1]"
   ]
  },
  {
   "cell_type": "code",
   "execution_count": 23,
   "metadata": {},
   "outputs": [
    {
     "data": {
      "text/plain": [
       "'\\x00'"
      ]
     },
     "execution_count": 23,
     "metadata": {},
     "output_type": "execute_result"
    }
   ],
   "source": [
    "a=\"d\"\n",
    "b=ord(\"5\")\n",
    "c=ord(a)+b"
   ]
  },
  {
   "cell_type": "code",
   "execution_count": 34,
   "metadata": {},
   "outputs": [
    {
     "name": "stdout",
     "output_type": "stream",
     "text": [
      "The price is 100.0 10.0 dollars\n"
     ]
    }
   ],
   "source": [
    "price = 10\n",
    "txt = \"The price is {:.1f} {:.1f} dollars\"\n",
    "print(txt.format(100, 10))"
   ]
  },
  {
   "cell_type": "code",
   "execution_count": 35,
   "metadata": {},
   "outputs": [
    {
     "name": "stdout",
     "output_type": "stream",
     "text": [
      "His name is John. John is 36 years old.\n"
     ]
    }
   ],
   "source": [
    "age = 36\n",
    "name = \"John\"\n",
    "txt = \"His name is {1}. {1} is {0} years old.\"\n",
    "print(txt.format(age, name))"
   ]
  },
  {
   "cell_type": "code",
   "execution_count": 17,
   "metadata": {},
   "outputs": [
    {
     "name": "stdout",
     "output_type": "stream",
     "text": [
      "15\n",
      "<function <lambda> at 0x000002A7E27A7D30>\n"
     ]
    }
   ],
   "source": [
    "x = lambda a : a + 10\n",
    "print(x(5))"
   ]
  },
  {
   "cell_type": "code",
   "execution_count": 24,
   "metadata": {},
   "outputs": [
    {
     "name": "stdout",
     "output_type": "stream",
     "text": [
      "2\n"
     ]
    }
   ],
   "source": [
    "def myfunc(n):\n",
    "    return lambda a : a * n\n",
    "\n",
    "mydoubler = myfunc(2)\n",
    "\n",
    "print(mydoubler(1))"
   ]
  },
  {
   "cell_type": "code",
   "execution_count": 17,
   "metadata": {},
   "outputs": [
    {
     "ename": "TypeError",
     "evalue": "unsupported operand type(s) for /: 'str' and 'int'",
     "output_type": "error",
     "traceback": [
      "\u001b[1;31m---------------------------------------------------------------------------\u001b[0m",
      "\u001b[1;31mTypeError\u001b[0m                                 Traceback (most recent call last)",
      "\u001b[1;32m<ipython-input-17-9681f7644579>\u001b[0m in \u001b[0;36m<module>\u001b[1;34m\u001b[0m\n\u001b[0;32m      4\u001b[0m         \u001b[0minp\u001b[0m\u001b[1;33m[\u001b[0m\u001b[0mi\u001b[0m\u001b[1;33m]\u001b[0m\u001b[1;33m,\u001b[0m \u001b[0minp\u001b[0m\u001b[1;33m[\u001b[0m\u001b[0mlen\u001b[0m\u001b[1;33m(\u001b[0m\u001b[0minp\u001b[0m\u001b[1;33m)\u001b[0m\u001b[1;33m-\u001b[0m\u001b[0mi\u001b[0m\u001b[1;33m]\u001b[0m \u001b[1;33m=\u001b[0m \u001b[0minp\u001b[0m\u001b[1;33m[\u001b[0m\u001b[0mlen\u001b[0m\u001b[1;33m(\u001b[0m\u001b[0minp\u001b[0m\u001b[1;33m)\u001b[0m\u001b[1;33m-\u001b[0m\u001b[0mi\u001b[0m\u001b[1;33m]\u001b[0m\u001b[1;33m,\u001b[0m \u001b[0minp\u001b[0m\u001b[1;33m[\u001b[0m\u001b[0mi\u001b[0m\u001b[1;33m]\u001b[0m\u001b[1;33m\u001b[0m\u001b[1;33m\u001b[0m\u001b[0m\n\u001b[0;32m      5\u001b[0m     \u001b[0mprint\u001b[0m\u001b[1;33m(\u001b[0m\u001b[0minp\u001b[0m\u001b[1;33m)\u001b[0m\u001b[1;33m\u001b[0m\u001b[1;33m\u001b[0m\u001b[0m\n\u001b[1;32m----> 6\u001b[1;33m \u001b[0mpalin\u001b[0m\u001b[1;33m(\u001b[0m\u001b[1;34m\"speed\"\u001b[0m\u001b[1;33m)\u001b[0m\u001b[1;33m\u001b[0m\u001b[1;33m\u001b[0m\u001b[0m\n\u001b[0m",
      "\u001b[1;32m<ipython-input-17-9681f7644579>\u001b[0m in \u001b[0;36mpalin\u001b[1;34m(inp)\u001b[0m\n\u001b[0;32m      1\u001b[0m \u001b[1;32mdef\u001b[0m \u001b[0mpalin\u001b[0m\u001b[1;33m(\u001b[0m\u001b[0minp\u001b[0m\u001b[1;33m)\u001b[0m\u001b[1;33m:\u001b[0m\u001b[1;33m\u001b[0m\u001b[1;33m\u001b[0m\u001b[0m\n\u001b[1;32m----> 2\u001b[1;33m     \u001b[0mprint\u001b[0m\u001b[1;33m(\u001b[0m\u001b[0mlen\u001b[0m\u001b[1;33m(\u001b[0m\u001b[0minp\u001b[0m\u001b[1;33m/\u001b[0m\u001b[1;36m2\u001b[0m\u001b[1;33m)\u001b[0m\u001b[1;33m)\u001b[0m\u001b[1;33m\u001b[0m\u001b[1;33m\u001b[0m\u001b[0m\n\u001b[0m\u001b[0;32m      3\u001b[0m     \u001b[1;32mfor\u001b[0m \u001b[0mi\u001b[0m \u001b[1;32min\u001b[0m \u001b[0mrange\u001b[0m\u001b[1;33m(\u001b[0m\u001b[0mlen\u001b[0m\u001b[1;33m(\u001b[0m\u001b[0minp\u001b[0m\u001b[1;33m/\u001b[0m\u001b[1;36m2\u001b[0m\u001b[1;33m)\u001b[0m\u001b[1;33m)\u001b[0m\u001b[1;33m:\u001b[0m\u001b[1;33m\u001b[0m\u001b[1;33m\u001b[0m\u001b[0m\n\u001b[0;32m      4\u001b[0m         \u001b[0minp\u001b[0m\u001b[1;33m[\u001b[0m\u001b[0mi\u001b[0m\u001b[1;33m]\u001b[0m\u001b[1;33m,\u001b[0m \u001b[0minp\u001b[0m\u001b[1;33m[\u001b[0m\u001b[0mlen\u001b[0m\u001b[1;33m(\u001b[0m\u001b[0minp\u001b[0m\u001b[1;33m)\u001b[0m\u001b[1;33m-\u001b[0m\u001b[0mi\u001b[0m\u001b[1;33m]\u001b[0m \u001b[1;33m=\u001b[0m \u001b[0minp\u001b[0m\u001b[1;33m[\u001b[0m\u001b[0mlen\u001b[0m\u001b[1;33m(\u001b[0m\u001b[0minp\u001b[0m\u001b[1;33m)\u001b[0m\u001b[1;33m-\u001b[0m\u001b[0mi\u001b[0m\u001b[1;33m]\u001b[0m\u001b[1;33m,\u001b[0m \u001b[0minp\u001b[0m\u001b[1;33m[\u001b[0m\u001b[0mi\u001b[0m\u001b[1;33m]\u001b[0m\u001b[1;33m\u001b[0m\u001b[1;33m\u001b[0m\u001b[0m\n\u001b[0;32m      5\u001b[0m     \u001b[0mprint\u001b[0m\u001b[1;33m(\u001b[0m\u001b[0minp\u001b[0m\u001b[1;33m)\u001b[0m\u001b[1;33m\u001b[0m\u001b[1;33m\u001b[0m\u001b[0m\n",
      "\u001b[1;31mTypeError\u001b[0m: unsupported operand type(s) for /: 'str' and 'int'"
     ]
    }
   ],
   "source": [
    "def palin(inp):\n",
    "    print(len(inp/2))\n",
    "    for i in range(len(inp/2)):\n",
    "        inp[i], inp[len(inp)-i] = inp[len(inp)-i], inp[i]\n",
    "    print(inp)\n",
    "palin(\"speed\")"
   ]
  },
  {
   "cell_type": "code",
   "execution_count": 21,
   "metadata": {},
   "outputs": [
    {
     "name": "stdout",
     "output_type": "stream",
     "text": [
      "True\n",
      "cba\n",
      "No\n"
     ]
    }
   ],
   "source": [
    "# PALINDROME\n",
    "\n",
    "def string (string):\n",
    "    org = string\n",
    "    rotate = [\"a\"]*len(org)\n",
    "    result = \"\"\n",
    "    \n",
    "    j=len(org)\n",
    "    z=1\n",
    "    for i in range(len(org)):\n",
    "        rotate[i] = org[len(org)-z]\n",
    "        j-+1\n",
    "        z+=1\n",
    "    #print(rotate)\n",
    "    for i in range(len(org)):\n",
    "        result=result+rotate[i]\n",
    "    #print(result)\n",
    "    \n",
    "    if result == org:\n",
    "        print(\"True\")\n",
    "    else:\n",
    "        print(\"False\")\n",
    "        \n",
    "string(\"radar\")\n",
    "\n",
    "#simple\n",
    "x = \"abc\"\n",
    "w = \"\"\n",
    "for i in x:\n",
    "    print\n",
    "    w = i + w\n",
    "print(w)\n",
    "\n",
    "if (x == w):\n",
    "    print(\"Yes\")\n",
    "else:\n",
    "    print(\"No\")"
   ]
  },
  {
   "cell_type": "code",
   "execution_count": 70,
   "metadata": {},
   "outputs": [
    {
     "name": "stdout",
     "output_type": "stream",
     "text": [
      "2\n"
     ]
    }
   ],
   "source": [
    "# REPEATED CHAR in STRING\n",
    "def repeated(inp, char):\n",
    "    no=0\n",
    "    for i in range(len(inp)):\n",
    "        if char == inp[i]:\n",
    "            no+=1\n",
    "        else:\n",
    "            pass\n",
    "    if no==1:\n",
    "        no=0\n",
    "    print(no)\n",
    "repeated(\"trinsgs\", \"s\")"
   ]
  },
  {
   "cell_type": "code",
   "execution_count": 92,
   "metadata": {},
   "outputs": [
    {
     "name": "stdout",
     "output_type": "stream",
     "text": [
      "3\n"
     ]
    }
   ],
   "source": [
    "# MISSING NO IN AN ARRAY\n",
    "def miss(inp):\n",
    "    missing = 0\n",
    "    for i in range(len(inp)):\n",
    "        if inp[i] == i+1:\n",
    "            pass\n",
    "        else:\n",
    "            missing=i+1\n",
    "            break\n",
    "    print(missing)\n",
    "miss([1,2,3,4,5])"
   ]
  },
  {
   "cell_type": "code",
   "execution_count": 104,
   "metadata": {},
   "outputs": [
    {
     "name": "stdout",
     "output_type": "stream",
     "text": [
      "3\n"
     ]
    }
   ],
   "source": [
    "# DUPLICATE NUMBERS\n",
    "def duplicate(inp):\n",
    "    result = \"\"\n",
    "    for i in range(len(inp)):\n",
    "        for j in range(i+1, len(inp)):\n",
    "            if inp[i]==inp[j]:\n",
    "                result = result+str(inp[i])\n",
    "            else:\n",
    "                pass\n",
    "    print(result)\n",
    "duplicate([1,2,3,4,5,3])"
   ]
  },
  {
   "cell_type": "code",
   "execution_count": 113,
   "metadata": {},
   "outputs": [
    {
     "name": "stdout",
     "output_type": "stream",
     "text": [
      "90\n"
     ]
    }
   ],
   "source": [
    "#Missing element in 2nd array\n",
    "def match(inp1,inp2):\n",
    "    for i in range(len(inp1)):\n",
    "        iteration = 0\n",
    "        for j in range(len(inp1)):\n",
    "            if inp1[i] == inp2[j]:\n",
    "                continue\n",
    "            else:\n",
    "                iteration+=1\n",
    "        if iteration == len(inp1):\n",
    "            print(inp1[i])\n",
    "            break\n",
    "match([1,2,3,90,5], [2,3,1,0,5])                "
   ]
  },
  {
   "cell_type": "code",
   "execution_count": null,
   "metadata": {},
   "outputs": [],
   "source": [
    "[1,2,3,4,5] [2,3,1,0,5]"
   ]
  },
  {
   "cell_type": "code",
   "execution_count": 46,
   "metadata": {},
   "outputs": [
    {
     "name": "stdout",
     "output_type": "stream",
     "text": [
      "[[7, 4, 1], [8, 5, 2], [9, 6, 3]]\n"
     ]
    }
   ],
   "source": [
    "# ROTATE 2d ARRAY TO LEFT\n",
    "a = [[1,2,3], [4,5,6], [7,8,9]]\n",
    "\n",
    "def rotation(inp):\n",
    "    result = [[0,0,0],[0,0,0],[0,0,0]]\n",
    "    j_tmp = 0\n",
    "    for i in range(len(inp)):\n",
    "        i_temp = 2\n",
    "        for j in range(len(inp)):\n",
    "            result[i][j] = inp[i_temp][j_tmp]\n",
    "            i_temp-=1\n",
    "            if j==2:\n",
    "                j_tmp+=1\n",
    "    print(result)\n",
    "                \n",
    "rotation(a)"
   ]
  },
  {
   "cell_type": "code",
   "execution_count": 27,
   "metadata": {},
   "outputs": [
    {
     "data": {
      "text/plain": [
       "963"
      ]
     },
     "execution_count": 27,
     "metadata": {},
     "output_type": "execute_result"
    }
   ],
   "source": [
    "123\n",
    "456\n",
    "789\n",
    "\n",
    "741\n",
    "852\n",
    "963"
   ]
  },
  {
   "cell_type": "code",
   "execution_count": 21,
   "metadata": {},
   "outputs": [
    {
     "name": "stdout",
     "output_type": "stream",
     "text": [
      "5\n",
      "2\n",
      "3\n",
      "1\n",
      "[5, 2, 3, 1] CONTAINER VALUE\n",
      "[[5, 2, 3, 1]] HOLD\n",
      "____________________________________________________________________________\n",
      "2\n",
      "3\n",
      "1\n",
      "8\n",
      "[2, 3, 1, 8] CONTAINER VALUE\n",
      "[[2, 3, 1, 8], [2, 3, 1, 8]] HOLD\n",
      "____________________________________________________________________________\n",
      "5\n",
      "2\n",
      "3\n",
      "[5, 2, 3] CONTAINER VALUE\n",
      "[[2, 3, 1, 8], [2, 3, 1, 8], [5, 2, 3]] HOLD\n",
      "____________________________________________________________________________\n",
      "2\n",
      "3\n",
      "1\n",
      "[2, 3, 1] CONTAINER VALUE\n",
      "[[2, 3, 1, 8], [2, 3, 1, 8], [2, 3, 1], [2, 3, 1]] HOLD\n",
      "____________________________________________________________________________\n",
      "3\n",
      "1\n",
      "8\n",
      "[3, 1, 8] CONTAINER VALUE\n",
      "[[2, 3, 1, 8], [2, 3, 1, 8], [3, 1, 8], [3, 1, 8], [3, 1, 8]] HOLD\n",
      "____________________________________________________________________________\n",
      "5\n",
      "2\n",
      "[5, 2] CONTAINER VALUE\n",
      "[[2, 3, 1, 8], [2, 3, 1, 8], [3, 1, 8], [3, 1, 8], [3, 1, 8], [5, 2]] HOLD\n",
      "____________________________________________________________________________\n",
      "2\n",
      "3\n",
      "[2, 3] CONTAINER VALUE\n",
      "[[2, 3, 1, 8], [2, 3, 1, 8], [3, 1, 8], [3, 1, 8], [3, 1, 8], [2, 3], [2, 3]] HOLD\n",
      "____________________________________________________________________________\n",
      "3\n",
      "1\n",
      "[3, 1] CONTAINER VALUE\n",
      "[[2, 3, 1, 8], [2, 3, 1, 8], [3, 1, 8], [3, 1, 8], [3, 1, 8], [3, 1], [3, 1], [3, 1]] HOLD\n",
      "____________________________________________________________________________\n",
      "1\n",
      "8\n",
      "[1, 8] CONTAINER VALUE\n",
      "[[2, 3, 1, 8], [2, 3, 1, 8], [3, 1, 8], [3, 1, 8], [3, 1, 8], [1, 8], [1, 8], [1, 8], [1, 8]] HOLD\n",
      "____________________________________________________________________________\n",
      "[[2, 3, 1, 8], [2, 3, 1, 8], [3, 1, 8], [3, 1, 8], [3, 1, 8], [1, 8], [1, 8], [1, 8], [1, 8]]\n"
     ]
    }
   ],
   "source": [
    "# CONTIGIOUS SUB ARRAY\n",
    "a = [5,2,3,1,8]\n",
    "f = 5\n",
    "temp = len(a)\n",
    "hold = []\n",
    "\n",
    "# TRICK\n",
    "\n",
    "for i in range(temp):\n",
    "    temp-=1\n",
    "    if temp<2:\n",
    "        break\n",
    "    #print(temp)\n",
    "\n",
    "    for j in range(1):\n",
    "        multiples = (len(a)-temp)+1\n",
    "        container = [[0]*(temp)]*multiples\n",
    "        #print(container,\"TEMP\")\n",
    "        \n",
    "        for k in range(multiples):\n",
    "            start = k\n",
    "            value_iteration=start\n",
    "            for l in range(temp):\n",
    "                #print(k,l)\n",
    "                catch = a[value_iteration]\n",
    "                print(catch)\n",
    "                container[k][l] = catch\n",
    "                value_iteration+=1\n",
    "                if l == (temp-1):\n",
    "                    start+=1 \n",
    "                    print(container[k], \"CONTAINER VALUE\")\n",
    "                    hold.insert(len(hold),container[k])\n",
    "                    print(hold,\"HOLD\")\n",
    "                    #hold.append(container)\n",
    "                    print(\"____________________________________________________________________________\")\n",
    "    \n",
    "print(hold)"
   ]
  },
  {
   "cell_type": "code",
   "execution_count": 7,
   "metadata": {},
   "outputs": [
    {
     "name": "stdout",
     "output_type": "stream",
     "text": [
      "3\n",
      "5\n",
      "7\n",
      "9\n",
      "11\n"
     ]
    }
   ],
   "source": [
    "def odd_numbers():\n",
    "    outter_var = 1\n",
    "    alternate_con = 0\n",
    "\n",
    "    for i in range(10):\n",
    "        temp = outter_var + 2\n",
    "        if (alternate_con == 0):\n",
    "            print(temp)\n",
    "            alternate_con += 1\n",
    "        elif (alternate_con == 1):\n",
    "            alternate_con -= 1\n",
    "            continue\n",
    "        outter_var += 2\n",
    "\n",
    "odd_numbers()"
   ]
  },
  {
   "cell_type": "code",
   "execution_count": 9,
   "metadata": {},
   "outputs": [],
   "source": [
    "a = 3\n",
    "if a%2 == 0:\n",
    "    print(\"true\")"
   ]
  },
  {
   "cell_type": "code",
   "execution_count": 6,
   "metadata": {},
   "outputs": [
    {
     "name": "stdout",
     "output_type": "stream",
     "text": [
      "2\n",
      "4\n",
      "10\n"
     ]
    }
   ],
   "source": [
    "print(5%3) # REMAINDER\n",
    "print(2**2) # SQUARE ROOT\n",
    "print(40//4) # GIVEN VALUE WITHIN HOW MANY TIMES"
   ]
  },
  {
   "cell_type": "code",
   "execution_count": 14,
   "metadata": {},
   "outputs": [
    {
     "name": "stdout",
     "output_type": "stream",
     "text": [
      "100\n",
      "23\n"
     ]
    }
   ],
   "source": [
    "# PRINT LARGE NUMBER IN AN ARRAY\n",
    "a = [23,7,100]\n",
    "large = int(0)\n",
    "sec_large = int(0)\n",
    "for i in range(len(a)):\n",
    "    if large < a[i]:\n",
    "        large = a[i]\n",
    "    else:\n",
    "        pass\n",
    "print(large)\n",
    "\n",
    "for i in range(len(a)):\n",
    "    if sec_large < a[i] and a[i] != large:\n",
    "        sec_large = a[i]\n",
    "    else:\n",
    "        pass\n",
    "print(sec_large)"
   ]
  },
  {
   "cell_type": "code",
   "execution_count": 62,
   "metadata": {},
   "outputs": [
    {
     "name": "stdout",
     "output_type": "stream",
     "text": [
      "7\n"
     ]
    }
   ],
   "source": [
    "# SECOND LARGEST\n",
    "a = [3,7,6]\n",
    "large = int(0)\n",
    "index = 0\n",
    "for i in range(len(a)):\n",
    "    if large < a[i]:\n",
    "        large = a[i]\n",
    "        index = i\n",
    "    else:\n",
    "        pass\n",
    "print(large)\n",
    "a[index] = 0\n",
    "\n",
    "large = 0\n",
    "for i in range(len(a)):\n",
    "    if large < a[i]:\n",
    "        large = a[i]\n",
    "        index = i\n",
    "    else:\n",
    "        pass\n",
    "    \n",
    "print(large)"
   ]
  },
  {
   "cell_type": "code",
   "execution_count": null,
   "metadata": {},
   "outputs": [],
   "source": []
  },
  {
   "cell_type": "code",
   "execution_count": 36,
   "metadata": {},
   "outputs": [
    {
     "ename": "SyntaxError",
     "evalue": "'return' outside function (<ipython-input-36-7468b5a388c3>, line 8)",
     "output_type": "error",
     "traceback": [
      "\u001b[1;36m  File \u001b[1;32m\"<ipython-input-36-7468b5a388c3>\"\u001b[1;36m, line \u001b[1;32m8\u001b[0m\n\u001b[1;33m    return x+x\u001b[0m\n\u001b[1;37m    ^\u001b[0m\n\u001b[1;31mSyntaxError\u001b[0m\u001b[1;31m:\u001b[0m 'return' outside function\n"
     ]
    }
   ],
   "source": [
    "class MyClass:\n",
    "    x = 5\n",
    "    def __init__(self, x):\n",
    "        self.x = x\n",
    "        pass\n",
    "class god:\n",
    "    x=1\n",
    "\n",
    "p1 = MyClass(4)\n",
    "print(p1.x)\n",
    "p2 = god()\n",
    "print(p2.x)"
   ]
  },
  {
   "cell_type": "code",
   "execution_count": 59,
   "metadata": {},
   "outputs": [
    {
     "name": "stdout",
     "output_type": "stream",
     "text": [
      "John\n",
      "2\n"
     ]
    }
   ],
   "source": [
    "class Person:\n",
    "    def __init__(self, name, age):\n",
    "        self.name = name\n",
    "        self.age = age\n",
    "\n",
    "    def myfunc(self):\n",
    "        print(\"Hello my name is \" + self.name)\n",
    "    def add(self,a,b):\n",
    "        return a+b\n",
    "\n",
    "p1 = Person(\"John\", 36)\n",
    "print(p1.name)\n",
    "c = p1.add(1,1)\n",
    "print(c)"
   ]
  },
  {
   "cell_type": "code",
   "execution_count": 73,
   "metadata": {},
   "outputs": [
    {
     "name": "stdout",
     "output_type": "stream",
     "text": [
      "[1, 2, 3]\n"
     ]
    }
   ],
   "source": [
    "# SLICING\n",
    "numbers = [1, 2, 3, 4, 5]\n",
    "print(numbers[0 : 3 : 1]) \n",
    "         #Start : Stop : Step"
   ]
  },
  {
   "cell_type": "code",
   "execution_count": 77,
   "metadata": {},
   "outputs": [
    {
     "name": "stdout",
     "output_type": "stream",
     "text": [
      "1 2 string "
     ]
    }
   ],
   "source": [
    "a = [1, 2, 'string']\n",
    "for i in a:\n",
    "   print(i, end=' ')"
   ]
  },
  {
   "cell_type": "code",
   "execution_count": 83,
   "metadata": {},
   "outputs": [
    {
     "name": "stdout",
     "output_type": "stream",
     "text": [
      "apple\n",
      "banana\n",
      "cherry\n"
     ]
    }
   ],
   "source": [
    "mytuple = (\"apple\", \"banana\", \"cherry\")\n",
    "myit = iter(mytuple)\n",
    "print(next(myit))\n",
    "print(next(myit))\n",
    "print(next(myit))"
   ]
  },
  {
   "cell_type": "code",
   "execution_count": 89,
   "metadata": {},
   "outputs": [
    {
     "name": "stdout",
     "output_type": "stream",
     "text": [
      "<class 'complex'>\n"
     ]
    }
   ],
   "source": [
    "x = 1j\n",
    "print(type(x))"
   ]
  },
  {
   "cell_type": "code",
   "execution_count": 14,
   "metadata": {},
   "outputs": [
    {
     "name": "stdout",
     "output_type": "stream",
     "text": [
      "1\n",
      "2\n",
      "3\n",
      "1\n",
      "2\n",
      "3\n",
      "4\n"
     ]
    }
   ],
   "source": [
    "# A simple Python program to introduce a linked list\n",
    "\n",
    "# Node class\n",
    "class Node:\n",
    "\n",
    "\t# Function to initialise the node object\n",
    "\tdef __init__(self, data):\n",
    "\t\tself.data = data # Assign data\n",
    "\t\tself.next = None # Initialize next as null\n",
    "\n",
    "\n",
    "# Linked List class contains a Node object\n",
    "class LinkedList:\n",
    "\n",
    "\t# Function to initialize head\n",
    "\tdef __init__(self):\n",
    "\t\tself.head = None\n",
    "\tdef printList(self):\n",
    "\t\ttemp = self.head\n",
    "\t\twhile (temp):\n",
    "\t\t\tprint (temp.data)\n",
    "\t\t\ttemp = temp.next\n",
    "\n",
    "\n",
    "# Code execution starts here\n",
    "if __name__=='__main__':\n",
    "\n",
    "\t# Start with the empty list\n",
    "\tllist = LinkedList()\n",
    "\n",
    "\tllist.head = Node(1)\n",
    "\tsecond = Node(2)\n",
    "\tthird = Node(3)\n",
    "\n",
    "\tllist.head.next = second; # Link first node with second\n",
    "\n",
    "\tsecond.next = third; # Link second node with the third node\n",
    "    \n",
    "\tllist.printList()\n",
    "    \n",
    "\tfourth = Node(4)\n",
    "\tthird.next = fourth;\n",
    "    \n",
    "\tllist.printList()"
   ]
  },
  {
   "cell_type": "code",
   "execution_count": 40,
   "metadata": {},
   "outputs": [
    {
     "name": "stdout",
     "output_type": "stream",
     "text": [
      "4\n",
      "1\n"
     ]
    },
    {
     "data": {
      "text/plain": [
       "14"
      ]
     },
     "execution_count": 40,
     "metadata": {},
     "output_type": "execute_result"
    }
   ],
   "source": [
    "class MyClass:\n",
    "    x = 5\n",
    "    def __init__(self, x):\n",
    "        self.x = x\n",
    "        pass\n",
    "    def add(self):\n",
    "        return x+x\n",
    "    \n",
    "class god:\n",
    "    x=1\n",
    "\n",
    "p1 = MyClass(4)\n",
    "print(p1.x)\n",
    "p2 = god()\n",
    "print(p2.x)\n",
    "\n",
    "p1.add()"
   ]
  },
  {
   "cell_type": "code",
   "execution_count": 51,
   "metadata": {},
   "outputs": [
    {
     "name": "stdout",
     "output_type": "stream",
     "text": [
      "2\n",
      "6\n"
     ]
    }
   ],
   "source": [
    "class asd:\n",
    "    def _init_(self, xx, yy):\n",
    "        self.xx = xx\n",
    "        self.yy = yy\n",
    "        print(xx+yy)\n",
    "    def add(self, x, y):\n",
    "        print(x+y)\n",
    "a = asd()\n",
    "a.add(1,1)\n",
    "\n",
    "a._init_(1,5)"
   ]
  },
  {
   "cell_type": "code",
   "execution_count": 7,
   "metadata": {},
   "outputs": [
    {
     "name": "stdout",
     "output_type": "stream",
     "text": [
      "['0', '1', '4', '5']\n",
      "0145\n"
     ]
    }
   ],
   "source": [
    "a = 1054\n",
    "a = str(a)\n",
    "\n",
    "lis = [0]*(len(a))\n",
    "for i in range(len(a)):\n",
    "    lis[i] = a[i]\n",
    "\n",
    "for i in range(len(lis)):\n",
    "    for j in range(i+1, len(lis)):\n",
    "        if lis[i]>lis[j]:\n",
    "            lis[i], lis[j] = lis[j], lis[i]\n",
    "print(lis)\n",
    "\n",
    "ret = \"\"\n",
    "for i in range(len(a)):\n",
    "    ret = ret + str(lis[i])\n",
    "print(ret)"
   ]
  },
  {
   "cell_type": "code",
   "execution_count": 9,
   "metadata": {},
   "outputs": [
    {
     "name": "stdout",
     "output_type": "stream",
     "text": [
      "1\n",
      "3\n",
      "5\n",
      "7\n",
      "9\n",
      "11\n",
      "13\n",
      "15\n",
      "17\n",
      "19\n",
      "21\n",
      "23\n",
      "25\n",
      "27\n",
      "29\n",
      "31\n",
      "33\n",
      "35\n",
      "37\n",
      "39\n",
      "41\n",
      "43\n",
      "45\n",
      "47\n",
      "49\n"
     ]
    }
   ],
   "source": [
    "alternate = 0\n",
    "for i in range(50):\n",
    "    if i%2 == 0:\n",
    "        alternate += 1\n",
    "        pass\n",
    "    else:\n",
    "        print(i)"
   ]
  },
  {
   "cell_type": "code",
   "execution_count": 2,
   "metadata": {},
   "outputs": [
    {
     "name": "stdout",
     "output_type": "stream",
     "text": [
      "Hello, World!\n"
     ]
    }
   ],
   "source": [
    "print(\"Hello, World!\", flush=True)"
   ]
  },
  {
   "cell_type": "code",
   "execution_count": 3,
   "metadata": {},
   "outputs": [
    {
     "name": "stdout",
     "output_type": "stream",
     "text": [
      "The platform is:  nt\n",
      "big output\n",
      "big output\n",
      "big output\n",
      "big output\n",
      "big output\n",
      "\n"
     ]
    }
   ],
   "source": [
    "import os\n",
    "from time import sleep\n",
    "# The screen clear function\n",
    "def screen_clear():\n",
    "   # for mac and linux(here, os.name is 'posix')\n",
    "   if os.name == 'posix':\n",
    "      _ = os.system('clear')\n",
    "   else:\n",
    "      # for windows platfrom\n",
    "      _ = os.system('cls')\n",
    "   # print out some text\n",
    "print(\"The platform is: \", os.name)\n",
    "print(\"big output\\n\"* 5)\n",
    "# wait for 5 seconds to clear screen\n",
    "sleep(5)\n",
    "# now call function we defined above\n",
    "screen_clear()"
   ]
  },
  {
   "cell_type": "code",
   "execution_count": 1,
   "metadata": {},
   "outputs": [
    {
     "name": "stdout",
     "output_type": "stream",
     "text": [
      "09:49:47 AM\r"
     ]
    },
    {
     "ename": "KeyboardInterrupt",
     "evalue": "",
     "output_type": "error",
     "traceback": [
      "\u001b[1;31m---------------------------------------------------------------------------\u001b[0m",
      "\u001b[1;31mKeyboardInterrupt\u001b[0m                         Traceback (most recent call last)",
      "\u001b[1;32m<ipython-input-1-8c54c34595e0>\u001b[0m in \u001b[0;36m<module>\u001b[1;34m\u001b[0m\n\u001b[0;32m      6\u001b[0m   \u001b[0mprint\u001b[0m\u001b[1;33m(\u001b[0m\u001b[0mresult\u001b[0m\u001b[1;33m,\u001b[0m \u001b[0mend\u001b[0m\u001b[1;33m=\u001b[0m\u001b[1;34m\"\"\u001b[0m\u001b[1;33m,\u001b[0m \u001b[0mflush\u001b[0m\u001b[1;33m=\u001b[0m\u001b[1;32mTrue\u001b[0m\u001b[1;33m)\u001b[0m\u001b[1;33m\u001b[0m\u001b[1;33m\u001b[0m\u001b[0m\n\u001b[0;32m      7\u001b[0m   \u001b[0mprint\u001b[0m\u001b[1;33m(\u001b[0m\u001b[1;34m\"\\r\"\u001b[0m\u001b[1;33m,\u001b[0m \u001b[0mend\u001b[0m\u001b[1;33m=\u001b[0m\u001b[1;34m\"\"\u001b[0m\u001b[1;33m,\u001b[0m \u001b[0mflush\u001b[0m\u001b[1;33m=\u001b[0m\u001b[1;32mTrue\u001b[0m\u001b[1;33m)\u001b[0m\u001b[1;33m\u001b[0m\u001b[1;33m\u001b[0m\u001b[0m\n\u001b[1;32m----> 8\u001b[1;33m   \u001b[0mtime\u001b[0m\u001b[1;33m.\u001b[0m\u001b[0msleep\u001b[0m\u001b[1;33m(\u001b[0m\u001b[1;36m1\u001b[0m\u001b[1;33m)\u001b[0m\u001b[1;33m\u001b[0m\u001b[1;33m\u001b[0m\u001b[0m\n\u001b[0m",
      "\u001b[1;31mKeyboardInterrupt\u001b[0m: "
     ]
    }
   ],
   "source": [
    "import time\n",
    "\n",
    "while True:\n",
    "  localtime = time.localtime()\n",
    "  result = time.strftime(\"%I:%M:%S %p\", localtime)\n",
    "  print(result, end=\"\", flush=True)\n",
    "  print(\"\\r\", end=\"\", flush=True)\n",
    "  time.sleep(1)"
   ]
  },
  {
   "cell_type": "code",
   "execution_count": 3,
   "metadata": {},
   "outputs": [
    {
     "name": "stdout",
     "output_type": "stream",
     "text": [
      "1\n"
     ]
    }
   ],
   "source": [
    "import time\n",
    "c = 0\n",
    "while c==0:\n",
    "    time.sleep(1)\n",
    "    a = input()\n",
    "    c = a"
   ]
  },
  {
   "cell_type": "code",
   "execution_count": 8,
   "metadata": {},
   "outputs": [
    {
     "ename": "AttributeError",
     "evalue": "module 'signal' has no attribute 'SIGHUP'",
     "output_type": "error",
     "traceback": [
      "\u001b[1;31m---------------------------------------------------------------------------\u001b[0m",
      "\u001b[1;31mAttributeError\u001b[0m                            Traceback (most recent call last)",
      "\u001b[1;32m<ipython-input-8-eb540d49c830>\u001b[0m in \u001b[0;36m<module>\u001b[1;34m\u001b[0m\n\u001b[0;32m     19\u001b[0m     \u001b[1;32mimport\u001b[0m \u001b[0msignal\u001b[0m\u001b[1;33m\u001b[0m\u001b[1;33m\u001b[0m\u001b[0m\n\u001b[0;32m     20\u001b[0m     \u001b[1;32mfor\u001b[0m \u001b[0msig\u001b[0m \u001b[1;32min\u001b[0m \u001b[1;33m(\u001b[0m\u001b[1;34m'TERM'\u001b[0m\u001b[1;33m,\u001b[0m \u001b[1;34m'HUP'\u001b[0m\u001b[1;33m,\u001b[0m \u001b[1;34m'INT'\u001b[0m\u001b[1;33m)\u001b[0m\u001b[1;33m:\u001b[0m\u001b[1;33m\u001b[0m\u001b[1;33m\u001b[0m\u001b[0m\n\u001b[1;32m---> 21\u001b[1;33m         \u001b[0msignal\u001b[0m\u001b[1;33m.\u001b[0m\u001b[0msignal\u001b[0m\u001b[1;33m(\u001b[0m\u001b[0mgetattr\u001b[0m\u001b[1;33m(\u001b[0m\u001b[0msignal\u001b[0m\u001b[1;33m,\u001b[0m \u001b[1;34m'SIG'\u001b[0m\u001b[1;33m+\u001b[0m\u001b[0msig\u001b[0m\u001b[1;33m)\u001b[0m\u001b[1;33m,\u001b[0m \u001b[0mquit\u001b[0m\u001b[1;33m)\u001b[0m\u001b[1;33m;\u001b[0m\u001b[1;33m\u001b[0m\u001b[1;33m\u001b[0m\u001b[0m\n\u001b[0m\u001b[0;32m     22\u001b[0m \u001b[1;33m\u001b[0m\u001b[0m\n\u001b[0;32m     23\u001b[0m     \u001b[0mmain\u001b[0m\u001b[1;33m(\u001b[0m\u001b[1;33m)\u001b[0m\u001b[1;33m\u001b[0m\u001b[1;33m\u001b[0m\u001b[0m\n",
      "\u001b[1;31mAttributeError\u001b[0m: module 'signal' has no attribute 'SIGHUP'"
     ]
    }
   ],
   "source": [
    "from threading import Event\n",
    "\n",
    "exit = Event()\n",
    "\n",
    "def main():\n",
    "    while not exit.is_set():\n",
    "      do_my_thing()\n",
    "      exit.wait(60)\n",
    "\n",
    "    print(\"All done!\")\n",
    "    # perform any cleanup here\n",
    "\n",
    "def quit(signo, _frame):\n",
    "    print(\"Interrupted by %d, shutting down\" % signo)\n",
    "    exit.set()\n",
    "\n",
    "if __name__ == '__main__':\n",
    "\n",
    "    import signal\n",
    "    for sig in ('TERM', 'HUP', 'INT'):\n",
    "        signal.signal(getattr(signal, 'SIG'+sig), quit);\n",
    "\n",
    "    main()"
   ]
  },
  {
   "cell_type": "code",
   "execution_count": 6,
   "metadata": {},
   "outputs": [],
   "source": [
    "import threading"
   ]
  },
  {
   "cell_type": "code",
   "execution_count": 16,
   "metadata": {},
   "outputs": [
    {
     "name": "stdout",
     "output_type": "stream",
     "text": [
      "h\n",
      "h\n",
      "h\n",
      "h\n",
      "h\n",
      "h\n",
      "Oh! You have sent a Keyboard Interrupt to me.\n",
      "Bye, Bye\n"
     ]
    }
   ],
   "source": [
    "import time\n",
    "\n",
    "def sleep(seconds):\n",
    "    for i in range(seconds):\n",
    "        try:\n",
    "            print(\"h\")\n",
    "            time.sleep(1)\n",
    "        except KeyboardInterrupt:\n",
    "            print(\"Oh! You have sent a Keyboard Interrupt to me.\\nBye, Bye\")\n",
    "            break\n",
    "sleep(60)"
   ]
  },
  {
   "cell_type": "code",
   "execution_count": 8,
   "metadata": {},
   "outputs": [
    {
     "name": "stdout",
     "output_type": "stream",
     "text": [
      "\n",
      "\t Program Has Entered into SLEEP \n",
      "\t press [ctrl+c] to INTERRUPT\n",
      "Program out of SLEEP\n"
     ]
    }
   ],
   "source": [
    "import time\n",
    "\n",
    "def sleep():\n",
    "    print(\"\\n\\t Program Has Entered into SLEEP \\n\\t press [ctrl+c] to INTERRUPT\")\n",
    "    interrupt = 0\n",
    "    while interrupt == 0:\n",
    "        try:\n",
    "            time.sleep(1)\n",
    "        except KeyboardInterrupt:\n",
    "            interrupt += 1\n",
    "            print(\"Program out of SLEEP\")\n",
    "        if interrupt != 0:\n",
    "            break\n",
    "sleep()"
   ]
  },
  {
   "cell_type": "code",
   "execution_count": 2,
   "metadata": {},
   "outputs": [
    {
     "name": "stdout",
     "output_type": "stream",
     "text": [
      "10 2\n"
     ]
    }
   ],
   "source": [
    "# Largest element and it's INDEX\n",
    "\n",
    "a = [3,2,10]\n",
    "temp = 0\n",
    "index = 0\n",
    "\n",
    "for i in range(len(a)):\n",
    "    if temp < a[i]:\n",
    "        temp = a[i]\n",
    "        index = i\n",
    "    else:\n",
    "        pass\n",
    "    \n",
    "print(temp, index)"
   ]
  },
  {
   "cell_type": "code",
   "execution_count": 3,
   "metadata": {},
   "outputs": [
    {
     "ename": "TypeError",
     "evalue": "'str' object does not support item assignment",
     "output_type": "error",
     "traceback": [
      "\u001b[1;31m---------------------------------------------------------------------------\u001b[0m",
      "\u001b[1;31mTypeError\u001b[0m                                 Traceback (most recent call last)",
      "\u001b[1;32m<ipython-input-3-b21291045daa>\u001b[0m in \u001b[0;36m<module>\u001b[1;34m\u001b[0m\n\u001b[0;32m      9\u001b[0m     \u001b[1;32mreturn\u001b[0m \u001b[0mx\u001b[0m\u001b[1;33m\u001b[0m\u001b[1;33m\u001b[0m\u001b[0m\n\u001b[0;32m     10\u001b[0m \u001b[1;33m\u001b[0m\u001b[0m\n\u001b[1;32m---> 11\u001b[1;33m \u001b[0mswap_odd\u001b[0m\u001b[1;33m(\u001b[0m\u001b[0ma\u001b[0m\u001b[1;33m,\u001b[0m \u001b[1;36m0\u001b[0m\u001b[1;33m)\u001b[0m\u001b[1;33m\u001b[0m\u001b[1;33m\u001b[0m\u001b[0m\n\u001b[0m",
      "\u001b[1;32m<ipython-input-3-b21291045daa>\u001b[0m in \u001b[0;36mswap_odd\u001b[1;34m(x, start_index)\u001b[0m\n\u001b[0;32m      6\u001b[0m     \u001b[0mtemp_2\u001b[0m \u001b[1;33m=\u001b[0m \u001b[0mx\u001b[0m\u001b[1;33m[\u001b[0m\u001b[0mstart_index\u001b[0m \u001b[1;33m+\u001b[0m \u001b[1;36m2\u001b[0m\u001b[1;33m]\u001b[0m\u001b[1;33m\u001b[0m\u001b[1;33m\u001b[0m\u001b[0m\n\u001b[0;32m      7\u001b[0m \u001b[1;33m\u001b[0m\u001b[0m\n\u001b[1;32m----> 8\u001b[1;33m     \u001b[0mx\u001b[0m\u001b[1;33m[\u001b[0m\u001b[0mstart_index\u001b[0m\u001b[1;33m]\u001b[0m\u001b[1;33m,\u001b[0m \u001b[0mx\u001b[0m\u001b[1;33m[\u001b[0m\u001b[0mstart_index\u001b[0m \u001b[1;33m+\u001b[0m \u001b[1;36m2\u001b[0m\u001b[1;33m]\u001b[0m \u001b[1;33m=\u001b[0m \u001b[0mtemp_2\u001b[0m\u001b[1;33m,\u001b[0m \u001b[0mtemp_1\u001b[0m\u001b[1;33m\u001b[0m\u001b[1;33m\u001b[0m\u001b[0m\n\u001b[0m\u001b[0;32m      9\u001b[0m     \u001b[1;32mreturn\u001b[0m \u001b[0mx\u001b[0m\u001b[1;33m\u001b[0m\u001b[1;33m\u001b[0m\u001b[0m\n\u001b[0;32m     10\u001b[0m \u001b[1;33m\u001b[0m\u001b[0m\n",
      "\u001b[1;31mTypeError\u001b[0m: 'str' object does not support item assignment"
     ]
    }
   ],
   "source": [
    "a = \"NETET\"\n",
    "b = \"TENET\"\n",
    "\n",
    "def swap_odd(x, start_index):\n",
    "    temp_1 = x[start_index]\n",
    "    temp_2 = x[start_index + 2]\n",
    "    \n",
    "    x[start_index], x[start_index + 2] = temp_2, temp_1\n",
    "    return x\n",
    "\n",
    "swap_odd(a, 0)    "
   ]
  },
  {
   "cell_type": "code",
   "execution_count": 20,
   "metadata": {},
   "outputs": [],
   "source": [
    "array = [1,2,3,2]\n",
    "query = [[1, 0], [2, 1], [3, 3]]\n",
    "\n",
    "def same(arr):\n",
    "    try:\n",
    "        no = 0\n",
    "        for i in range(len(arr)):\n",
    "            if arr[i]==arr[i+1]:\n",
    "                no += 1\n",
    "    except IndexError:\n",
    "        pass\n",
    "    return no\n",
    "\n",
    "for i in range(len(query)):\n",
    "    for j in range(query[i][1]):\n",
    "        val = query[i][0]\n",
    "        for "
   ]
  },
  {
   "cell_type": "code",
   "execution_count": 22,
   "metadata": {},
   "outputs": [
    {
     "data": {
      "text/plain": [
       "2"
      ]
     },
     "execution_count": 22,
     "metadata": {},
     "output_type": "execute_result"
    }
   ],
   "source": [
    "same([1,2,2,2])"
   ]
  },
  {
   "cell_type": "code",
   "execution_count": null,
   "metadata": {},
   "outputs": [],
   "source": []
  }
 ],
 "metadata": {
  "kernelspec": {
   "display_name": "Python 3",
   "language": "python",
   "name": "python3"
  },
  "language_info": {
   "codemirror_mode": {
    "name": "ipython",
    "version": 3
   },
   "file_extension": ".py",
   "mimetype": "text/x-python",
   "name": "python",
   "nbconvert_exporter": "python",
   "pygments_lexer": "ipython3",
   "version": "3.8.3"
  }
 },
 "nbformat": 4,
 "nbformat_minor": 4
}
