{
 "cells": [
  {
   "cell_type": "code",
   "execution_count": 10,
   "metadata": {},
   "outputs": [],
   "source": [
    "import mysql.connector\n",
    "\n",
    "mydb = mysql.connector.connect(\n",
    "  host=\"localhost\",\n",
    "  user=\"kevindaniel\",\n",
    "  password=\"123456789\"\n",
    ")\n",
    "\n",
    "mycursor = mydb.cursor()\n",
    "\n",
    "#mycursor.execute(\"CREATE DATABASE mydatabase\")"
   ]
  },
  {
   "cell_type": "code",
   "execution_count": 11,
   "metadata": {},
   "outputs": [],
   "source": [
    "mydb = mysql.connector.connect(\n",
    "  host=\"localhost\",\n",
    "  user=\"kevindaniel\",\n",
    "  password=\"123456789\",\n",
    "  database=\"mydatabase\"\n",
    ")\n",
    "\n",
    "mycursor = mydb.cursor()"
   ]
  },
  {
   "cell_type": "code",
   "execution_count": 7,
   "metadata": {},
   "outputs": [],
   "source": [
    "mycursor.execute(\"CREATE TABLE trial_illicit (ROW_NO int NOT NULL AUTO_INCREMENT, TwoThousand VARCHAR(255), FiveHundred VARCHAR(255), TwoHundred VARCHAR(255), Hundred VARCHAR(255), Fifty VARCHAR(255), Twenty VARCHAR(255), Ten VARCHAR(255), PRIMARY KEY (ROW_NO))\")"
   ]
  },
  {
   "cell_type": "code",
   "execution_count": 74,
   "metadata": {},
   "outputs": [
    {
     "name": "stdout",
     "output_type": "stream",
     "text": [
      "['one', 'stollen2', 'stollen3', 'four'] ['TwoThousand', 'TwoThousand', 'TwoThousand', 'Ten']\n"
     ]
    }
   ],
   "source": [
    "# DATA HOLDER\n",
    "def temporary_container_ceation(no_of_banknotes):\n",
    "    serial_number_holder = [\"\"]*no_of_banknotes\n",
    "    denomination_holder = [0]*no_of_banknotes\n",
    "    return serial_number_holder, denomination_holder # LIST\n",
    "\n",
    "serial_number_var, denomination_var = temporary_container_ceation(4)\n",
    "\n",
    "denomination_var[0] = \"TwoThousand\"\n",
    "denomination_var[1] = \"TwoThousand\"\n",
    "denomination_var[2] = \"TwoThousand\"\n",
    "denomination_var[3] = \"Ten\"\n",
    "\n",
    "serial_number_var[0] = \"one\"\n",
    "serial_number_var[1] = \"stollen2\"\n",
    "serial_number_var[2] = \"stollen3\"\n",
    "serial_number_var[3] = \"four\"\n",
    "\n",
    "print(serial_number_var, denomination_var)\n",
    "column_name = ['TwoThousand', 'FiveHundred', 'TwoHundred', 'Hundred', 'Fifty', 'Twenty', 'Ten']"
   ]
  },
  {
   "cell_type": "code",
   "execution_count": 77,
   "metadata": {},
   "outputs": [
    {
     "name": "stdout",
     "output_type": "stream",
     "text": [
      "2\n"
     ]
    }
   ],
   "source": [
    "def SQL_illicit_record(SNO, Denomination):\n",
    "    STOLLEN_CONDITION = 0\n",
    "    for i in range(len(Denomination)):\n",
    "        mycursor.execute(\"SELECT \" + Denomination[i] + \" FROM trial_illicit\")\n",
    "        myresult = mycursor.fetchall()\n",
    "        for x in myresult:\n",
    "            check_result = (x[0] == SNO[i])\n",
    "            if check_result == True:\n",
    "                STOLLEN_CONDITION = STOLLEN_CONDITION + 1\n",
    "            else:\n",
    "                pass\n",
    "    return STOLLEN_CONDITION\n",
    "\n",
    "stollen_bank_notes = SQL_illicit_record(serial_number_var, denomination_var)\n",
    "print(stollen_bank_notes)"
   ]
  },
  {
   "cell_type": "code",
   "execution_count": 26,
   "metadata": {},
   "outputs": [],
   "source": []
  },
  {
   "cell_type": "code",
   "execution_count": 85,
   "metadata": {},
   "outputs": [
    {
     "name": "stdout",
     "output_type": "stream",
     "text": [
      "record inserted, ID: 1\n"
     ]
    }
   ],
   "source": [
    "# INSERT\n",
    "\n",
    "#query = \"INSERT INTO trial (\" + column_name[0] +\") VALUES ('\" + SNO[i] +\"')\"\n",
    "query = \"INSERT INTO trial_illicit (\" + column_name[0] +\") VALUES ('stollen3')\"\n",
    "\n",
    "query_str = str(query)\n",
    "mycursor.execute(query_str)\n",
    "mydb.commit()\n",
    "print(\"record inserted, ID:\", mycursor.lastrowid)"
   ]
  },
  {
   "cell_type": "code",
   "execution_count": null,
   "metadata": {},
   "outputs": [],
   "source": [
    "# UPDATE\n",
    "\n",
    "query = \"UPDATE trial SET \" + DENOMINATION[i] + \" = '\" + SNO[i] + \"' WHERE ROW_NO = \" + str(SQL_data_insertion_log[0]+1)\n",
    "query_str = str(query)\n",
    "mycursor.execute(query_str)\n",
    "mydb.commit()\n",
    "print(mycursor.rowcount, \"record(s) affected\")"
   ]
  },
  {
   "cell_type": "code",
   "execution_count": 86,
   "metadata": {},
   "outputs": [
    {
     "name": "stdout",
     "output_type": "stream",
     "text": [
      "[('stollen3',)]\n",
      "('stollen3',)\n"
     ]
    }
   ],
   "source": [
    "# SELECT\n",
    "mycursor.execute(\"SELECT TwoThousand FROM trial_illicit\")\n",
    "myresult = mycursor.fetchall()\n",
    "print(myresult)\n",
    "for x in myresult:\n",
    "  print(x)"
   ]
  },
  {
   "cell_type": "code",
   "execution_count": null,
   "metadata": {},
   "outputs": [],
   "source": [
    "# DROP TABLE\n",
    "sql = \"DROP TABLE trial_illicit\"\n",
    "mycursor.execute(sql)"
   ]
  },
  {
   "cell_type": "code",
   "execution_count": null,
   "metadata": {},
   "outputs": [],
   "source": []
  },
  {
   "cell_type": "code",
   "execution_count": null,
   "metadata": {},
   "outputs": [],
   "source": []
  },
  {
   "cell_type": "code",
   "execution_count": null,
   "metadata": {},
   "outputs": [],
   "source": []
  }
 ],
 "metadata": {
  "kernelspec": {
   "display_name": "Python 3",
   "language": "python",
   "name": "python3"
  },
  "language_info": {
   "codemirror_mode": {
    "name": "ipython",
    "version": 3
   },
   "file_extension": ".py",
   "mimetype": "text/x-python",
   "name": "python",
   "nbconvert_exporter": "python",
   "pygments_lexer": "ipython3",
   "version": "3.8.3"
  }
 },
 "nbformat": 4,
 "nbformat_minor": 4
}
