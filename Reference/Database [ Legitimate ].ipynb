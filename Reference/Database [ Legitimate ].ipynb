{
 "cells": [
  {
   "cell_type": "code",
   "execution_count": 2,
   "metadata": {},
   "outputs": [],
   "source": [
    "import mysql.connector\n",
    "\n",
    "mydb = mysql.connector.connect(\n",
    "  host=\"localhost\",\n",
    "  user=\"kevindaniel\",\n",
    "  password=\"123456789\"\n",
    ")\n",
    "\n",
    "mycursor = mydb.cursor()\n",
    "\n",
    "#mycursor.execute(\"CREATE DATABASE mydatabase\")"
   ]
  },
  {
   "cell_type": "code",
   "execution_count": null,
   "metadata": {},
   "outputs": [],
   "source": [
    "mycursor.execute(\"SHOW DATABASES\")\n",
    "for x in mycursor:\n",
    "  print(x)"
   ]
  },
  {
   "cell_type": "code",
   "execution_count": 3,
   "metadata": {},
   "outputs": [],
   "source": [
    "mydb = mysql.connector.connect(\n",
    "  host=\"localhost\",\n",
    "  user=\"kevindaniel\",\n",
    "  password=\"123456789\",\n",
    "  database=\"mydatabase\"\n",
    ")\n",
    "\n",
    "mycursor = mydb.cursor()"
   ]
  },
  {
   "cell_type": "code",
   "execution_count": 22,
   "metadata": {},
   "outputs": [],
   "source": [
    "mycursor.execute(\"CREATE TABLE trial (ROW_NO int NOT NULL AUTO_INCREMENT, TwoThousand VARCHAR(255), FiveHundred VARCHAR(255), TwoHundred VARCHAR(255), Hundred VARCHAR(255), Fifty VARCHAR(255), Twenty VARCHAR(255), Ten VARCHAR(255), PRIMARY KEY (ROW_NO))\")"
   ]
  },
  {
   "cell_type": "markdown",
   "metadata": {},
   "source": [
    "# UPDATE"
   ]
  },
  {
   "cell_type": "code",
   "execution_count": 23,
   "metadata": {},
   "outputs": [
    {
     "name": "stdout",
     "output_type": "stream",
     "text": [
      "['one', 'two', 'three', 'four'] ['TwoThousand', 'TwoThousand', 'Hundred', 'Ten']\n"
     ]
    }
   ],
   "source": [
    "# DATA HOLDER\n",
    "def temporary_container_ceation(no_of_banknotes):\n",
    "    serial_number_holder = [\"\"]*no_of_banknotes\n",
    "    denomination_holder = [0]*no_of_banknotes\n",
    "    return serial_number_holder, denomination_holder # LIST\n",
    "\n",
    "serial_number_var, denomination_var = temporary_container_ceation(4)\n",
    "\n",
    "denomination_var[0] = \"TwoThousand\"\n",
    "denomination_var[1] = \"TwoThousand\"\n",
    "denomination_var[2] = \"Hundred\"\n",
    "denomination_var[3] = \"Ten\"\n",
    "\n",
    "serial_number_var[0] = \"one\"\n",
    "serial_number_var[1] = \"two\"\n",
    "serial_number_var[2] = \"three\"\n",
    "serial_number_var[3] = \"four\"\n",
    "\n",
    "\n",
    "print(serial_number_var, denomination_var)"
   ]
  },
  {
   "cell_type": "code",
   "execution_count": 24,
   "metadata": {},
   "outputs": [],
   "source": [
    "global SQL_data_insertion_log, SQL_total_row_count\n",
    "SQL_data_insertion_log = [0, 0, 0, 0, 0, 0, 0] #PER COLUMN\n",
    "SQL_total_row_count = 0                        #OVERALL ROW"
   ]
  },
  {
   "cell_type": "code",
   "execution_count": 34,
   "metadata": {},
   "outputs": [
    {
     "name": "stdout",
     "output_type": "stream",
     "text": [
      "record inserted, ID: 5\n",
      "record inserted, ID: 6\n",
      "1 record(s) affected\n",
      "1 record(s) affected\n"
     ]
    }
   ],
   "source": [
    "def SQL_insert(SNO, DENOMINATION):\n",
    "    global SQL_data_insertion_log, SQL_total_row_count\n",
    "    for i in range(len(SNO)):\n",
    "        if DENOMINATION[i] == 'TwoThousand':\n",
    "            if SQL_total_row_count == SQL_data_insertion_log[0]:\n",
    "                query = \"INSERT INTO trial (\" + DENOMINATION[i] +\") VALUES ('\" + SNO[i] +\"')\"\n",
    "                query_str = str(query)\n",
    "                mycursor.execute(query_str)\n",
    "                mydb.commit()\n",
    "                print(\"record inserted, ID:\", mycursor.lastrowid)\n",
    "                SQL_data_insertion_log[0] = SQL_data_insertion_log[0] + 1\n",
    "                SQL_total_row_count = SQL_total_row_count + 1\n",
    "    \n",
    "            else:\n",
    "                query = \"UPDATE trial SET \" + DENOMINATION[i] + \" = '\" + SNO[i] + \"' WHERE ROW_NO = \" + str(SQL_data_insertion_log[0]+1)\n",
    "                query_str = str(query)\n",
    "                mycursor.execute(query_str)\n",
    "                mydb.commit()\n",
    "                print(mycursor.rowcount, \"record(s) affected\")\n",
    "                SQL_data_insertion_log[0] = SQL_data_insertion_log[0] + 1\n",
    "                \n",
    "        elif DENOMINATION[i] == 'FiveHundred':\n",
    "            if SQL_total_row_count == SQL_data_insertion_log[1]:\n",
    "                query = \"INSERT INTO trial (\" + DENOMINATION[i] +\") VALUES ('\" + SNO[i] +\"')\"\n",
    "                query_str = str(query)\n",
    "                mycursor.execute(query_str)\n",
    "                mydb.commit()\n",
    "                print(\"record inserted, ID:\", mycursor.lastrowid)\n",
    "                SQL_data_insertion_log[1] = SQL_data_insertion_log[1] + 1\n",
    "                SQL_total_row_count = SQL_total_row_count + 1\n",
    "    \n",
    "            else:\n",
    "                query = \"UPDATE trial SET \" + DENOMINATION[i] + \" = '\" + SNO[i] + \"' WHERE ROW_NO = \" + str(SQL_data_insertion_log[1]+1)\n",
    "                query_str = str(query)\n",
    "                mycursor.execute(query_str)\n",
    "                mydb.commit()\n",
    "                print(mycursor.rowcount, \"record(s) affected\")\n",
    "                SQL_data_insertion_log[1] = SQL_data_insertion_log[1] + 1\n",
    "                \n",
    "        elif DENOMINATION[i] == 'TwoHundred':\n",
    "            if SQL_total_row_count == SQL_data_insertion_log[2]:\n",
    "                query = \"INSERT INTO trial (\" + DENOMINATION[i] +\") VALUES ('\" + SNO[i] +\"')\"\n",
    "                query_str = str(query)\n",
    "                mycursor.execute(query_str)\n",
    "                mydb.commit()\n",
    "                print(\"record inserted, ID:\", mycursor.lastrowid)\n",
    "                SQL_data_insertion_log[2] = SQL_data_insertion_log[2] + 1\n",
    "                SQL_total_row_count = SQL_total_row_count + 1\n",
    "    \n",
    "            else:\n",
    "                query = \"UPDATE trial SET \" + DENOMINATION[i] + \" = '\" + SNO[i] + \"' WHERE ROW_NO = \" + str(SQL_data_insertion_log[2]+1)\n",
    "                query_str = str(query)\n",
    "                mycursor.execute(query_str)\n",
    "                mydb.commit()\n",
    "                print(mycursor.rowcount, \"record(s) affected\")\n",
    "                SQL_data_insertion_log[2] = SQL_data_insertion_log[2] + 1\n",
    "                \n",
    "        elif DENOMINATION[i] == 'Hundred':\n",
    "            if SQL_total_row_count == SQL_data_insertion_log[3]:\n",
    "                query = \"INSERT INTO trial (\" + DENOMINATION[i] +\") VALUES ('\" + SNO[i] +\"')\"\n",
    "                query_str = str(query)\n",
    "                mycursor.execute(query_str)\n",
    "                mydb.commit()\n",
    "                print(\"record inserted, ID:\", mycursor.lastrowid)\n",
    "                SQL_data_insertion_log[3] = SQL_data_insertion_log[3] + 1\n",
    "                SQL_total_row_count = SQL_total_row_count + 1\n",
    "    \n",
    "            else:\n",
    "                query = \"UPDATE trial SET \" + DENOMINATION[i] + \" = '\" + SNO[i] + \"' WHERE ROW_NO = \" + str(SQL_data_insertion_log[3]+1)\n",
    "                query_str = str(query)\n",
    "                mycursor.execute(query_str)\n",
    "                mydb.commit()\n",
    "                print(mycursor.rowcount, \"record(s) affected\")\n",
    "                SQL_data_insertion_log[3] = SQL_data_insertion_log[3] + 1\n",
    "                \n",
    "        elif DENOMINATION[i] == 'Fifty':\n",
    "            if SQL_total_row_count == SQL_data_insertion_log[4]:\n",
    "                query = \"INSERT INTO trial (\" + DENOMINATION[i] +\") VALUES ('\" + SNO[i] +\"')\"\n",
    "                query_str = str(query)\n",
    "                mycursor.execute(query_str)\n",
    "                mydb.commit()\n",
    "                print(\"record inserted, ID:\", mycursor.lastrowid)\n",
    "                SQL_data_insertion_log[4] = SQL_data_insertion_log[4] + 1\n",
    "                SQL_total_row_count = SQL_total_row_count + 1\n",
    "    \n",
    "            else:\n",
    "                query = \"UPDATE trial SET \" + DENOMINATION[i] + \" = '\" + SNO[i] + \"' WHERE ROW_NO = \" + str(SQL_data_insertion_log[4]+1)\n",
    "                query_str = str(query)\n",
    "                mycursor.execute(query_str)\n",
    "                mydb.commit()\n",
    "                print(mycursor.rowcount, \"record(s) affected\")\n",
    "                SQL_data_insertion_log[4] = SQL_data_insertion_log[4] + 1\n",
    "                \n",
    "        elif DENOMINATION[i] == 'Twenty':\n",
    "            if SQL_total_row_count == SQL_data_insertion_log[5]:\n",
    "                query = \"INSERT INTO trial (\" + DENOMINATION[i] +\") VALUES ('\" + SNO[i] +\"')\"\n",
    "                query_str = str(query)\n",
    "                mycursor.execute(query_str)\n",
    "                mydb.commit()\n",
    "                print(\"record inserted, ID:\", mycursor.lastrowid)\n",
    "                SQL_data_insertion_log[5] = SQL_data_insertion_log[5] + 1\n",
    "                SQL_total_row_count = SQL_total_row_count + 1\n",
    "    \n",
    "            else:\n",
    "                query = \"UPDATE trial SET \" + DENOMINATION[i] + \" = '\" + SNO[i] + \"' WHERE ROW_NO = \" + str(SQL_data_insertion_log[5]+1)\n",
    "                query_str = str(query)\n",
    "                mycursor.execute(query_str)\n",
    "                mydb.commit()\n",
    "                print(mycursor.rowcount, \"record(s) affected\")\n",
    "                SQL_data_insertion_log[5] = SQL_data_insertion_log[5] + 1\n",
    "                \n",
    "        elif DENOMINATION[i] == 'Ten':\n",
    "            if SQL_total_row_count == SQL_data_insertion_log[6]:\n",
    "                query = \"INSERT INTO trial (\" + DENOMINATION[i] +\") VALUES ('\" + SNO[i] +\"')\"\n",
    "                query_str = str(query)\n",
    "                mycursor.execute(query_str)\n",
    "                mydb.commit()\n",
    "                print(\"record inserted, ID:\", mycursor.lastrowid)\n",
    "                SQL_data_insertion_log[6] = SQL_data_insertion_log[6] + 1\n",
    "                SQL_total_row_count = SQL_total_row_count + 1\n",
    "    \n",
    "            else:\n",
    "                query = \"UPDATE trial SET \" + DENOMINATION[i] + \" = '\" + SNO[i] + \"' WHERE ROW_NO = \" + str(SQL_data_insertion_log[6]+1)\n",
    "                query_str = str(query)\n",
    "                mycursor.execute(query_str)\n",
    "                mydb.commit()\n",
    "                print(mycursor.rowcount, \"record(s) affected\")\n",
    "                SQL_data_insertion_log[6] = SQL_data_insertion_log[6] + 1\n",
    "        else:\n",
    "            pass\n",
    "                \n",
    "                \n",
    "SQL_insert(serial_number_var, denomination_var)\n",
    "#print(serial_number_var, denomination_var)"
   ]
  },
  {
   "cell_type": "code",
   "execution_count": 11,
   "metadata": {},
   "outputs": [],
   "source": [
    "global SQL_remove_SNO_dispensed, column_name\n",
    "SQL_remove_SNO_dispensed = [2, 0, 0, 0, 0, 0, 1]\n",
    "column_name = ['TwoThousand', 'FiveHundred', 'TwoHundred', 'Hundred', 'Fifty', 'Twenty', 'Ten']"
   ]
  },
  {
   "cell_type": "markdown",
   "metadata": {},
   "source": [
    "# BUG iteraton"
   ]
  },
  {
   "cell_type": "code",
   "execution_count": 36,
   "metadata": {},
   "outputs": [
    {
     "name": "stdout",
     "output_type": "stream",
     "text": [
      "1 record(s) deleted\n",
      "1 record(s) deleted\n",
      "1 record(s) deleted\n"
     ]
    }
   ],
   "source": [
    "def SQL_delete(delete):\n",
    "    total_deletion = 0\n",
    "    for i in range(len(delete)):\n",
    "        total_deletion = total_deletion + delete[i]\n",
    "    \n",
    "    for i in range(len(delete)):\n",
    "        if delete[i] > 0:\n",
    "            for j in range(delete[i]):\n",
    "                #query = \"UPDATE trial SET TwoThousand = null WHERE ROW_NO = \" + str(SQL_data_insertion_log[0])\n",
    "                query = \"UPDATE trial SET \" + column_name[i] + \" = null WHERE ROW_NO = \" + str(SQL_data_insertion_log[i])\n",
    "                query_str = str(query)\n",
    "                mycursor.execute(query_str)\n",
    "                mydb.commit()\n",
    "                SQL_data_insertion_log[i] = SQL_data_insertion_log[i] - 1\n",
    "                print(mycursor.rowcount, \"record(s) deleted\")\n",
    "        else:\n",
    "            pass\n",
    "        \n",
    "SQL_delete(SQL_remove_SNO_dispensed)"
   ]
  },
  {
   "cell_type": "code",
   "execution_count": 37,
   "metadata": {},
   "outputs": [
    {
     "name": "stdout",
     "output_type": "stream",
     "text": [
      "(1, 'one', None, None, 'three', None, None, 'four')\n",
      "(2, 'two', None, None, 'three', None, None, 'four')\n",
      "(3, 'one', None, None, 'three', None, None, None)\n",
      "(4, 'two', None, None, 'three', None, None, None)\n",
      "(5, None, None, None, None, None, None, None)\n",
      "(6, None, None, None, None, None, None, None)\n"
     ]
    }
   ],
   "source": [
    "# SELECT\n",
    "mycursor.execute(\"SELECT * FROM trial\")\n",
    "myresult = mycursor.fetchall()\n",
    "for x in myresult:\n",
    "  print(x)"
   ]
  },
  {
   "cell_type": "code",
   "execution_count": 38,
   "metadata": {},
   "outputs": [],
   "source": [
    "# DROP TABLE\n",
    "sql = \"DROP TABLE trial\"\n",
    "mycursor.execute(sql)"
   ]
  },
  {
   "cell_type": "code",
   "execution_count": null,
   "metadata": {},
   "outputs": [],
   "source": []
  },
  {
   "cell_type": "code",
   "execution_count": null,
   "metadata": {},
   "outputs": [],
   "source": []
  },
  {
   "cell_type": "code",
   "execution_count": null,
   "metadata": {},
   "outputs": [],
   "source": []
  },
  {
   "cell_type": "code",
   "execution_count": null,
   "metadata": {},
   "outputs": [],
   "source": []
  },
  {
   "cell_type": "code",
   "execution_count": null,
   "metadata": {},
   "outputs": [],
   "source": []
  },
  {
   "cell_type": "code",
   "execution_count": null,
   "metadata": {},
   "outputs": [],
   "source": []
  },
  {
   "cell_type": "code",
   "execution_count": 118,
   "metadata": {},
   "outputs": [],
   "source": [
    "hello = [\"TwoThousand\", \"hi\"]"
   ]
  },
  {
   "cell_type": "code",
   "execution_count": 115,
   "metadata": {},
   "outputs": [
    {
     "name": "stdout",
     "output_type": "stream",
     "text": [
      "1 record inserted, ID: 2\n"
     ]
    }
   ],
   "source": [
    "# INSERT\n",
    "\n",
    "#sql = \"INSERT INTO trial (Ten) VALUES ('1234hz67')\"\n",
    "asd = \"INSERT INTO trial (\" + hello[0] +\") VALUES ('\" + hello[0] +\"')\"\n",
    "mycursor.execute(asd)\n",
    "mydb.commit()\n",
    "print(\"1 record inserted, ID:\", mycursor.lastrowid)"
   ]
  },
  {
   "cell_type": "code",
   "execution_count": 125,
   "metadata": {},
   "outputs": [
    {
     "name": "stdout",
     "output_type": "stream",
     "text": [
      "0 record(s) affected\n"
     ]
    }
   ],
   "source": [
    "# UPDATE\n",
    "\n",
    "#sql = \"UPDATE trial SET Ten = 'Canyon 123' WHERE ROW_NO = 1\"\n",
    "sql = \"UPDATE trial SET \" + hello[0] + \" = '\" + hello[0] + \"' WHERE ROW_NO = \" + str(SQL_data_insertion_log[0])\n",
    "mycursor.execute(sql)\n",
    "mydb.commit()\n",
    "print(mycursor.rowcount, \"record(s) affected\")"
   ]
  },
  {
   "cell_type": "code",
   "execution_count": 173,
   "metadata": {},
   "outputs": [
    {
     "name": "stdout",
     "output_type": "stream",
     "text": [
      "1 record(s) deleted\n"
     ]
    }
   ],
   "source": [
    "sql = \"UPDATE trial SET TwoThousand = null WHERE ROW_NO = \" + str(SQL_data_insertion_log[0])\n",
    "mycursor.execute(sql)\n",
    "mydb.commit()\n",
    "print(mycursor.rowcount, \"record(s) deleted\")"
   ]
  }
 ],
 "metadata": {
  "kernelspec": {
   "display_name": "Python 3",
   "language": "python",
   "name": "python3"
  },
  "language_info": {
   "codemirror_mode": {
    "name": "ipython",
    "version": 3
   },
   "file_extension": ".py",
   "mimetype": "text/x-python",
   "name": "python",
   "nbconvert_exporter": "python",
   "pygments_lexer": "ipython3",
   "version": "3.8.3"
  }
 },
 "nbformat": 4,
 "nbformat_minor": 4
}
