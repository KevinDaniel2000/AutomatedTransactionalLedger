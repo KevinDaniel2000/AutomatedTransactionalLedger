{
 "cells": [
  {
   "cell_type": "markdown",
   "metadata": {},
   "source": [
    "# CONNECTION"
   ]
  },
  {
   "cell_type": "code",
   "execution_count": 33,
   "metadata": {},
   "outputs": [
    {
     "name": "stdout",
     "output_type": "stream",
     "text": [
      "('information_schema',)\n",
      "('mydatabase',)\n",
      "('mysql',)\n",
      "('performance_schema',)\n",
      "('sakila',)\n",
      "('sys',)\n",
      "('world',)\n"
     ]
    }
   ],
   "source": [
    "import mysql.connector\n",
    "mydb = mysql.connector.connect(\n",
    "  host=\"localhost\",\n",
    "  user=\"kevindaniel\",\n",
    "  password=\"123456789\"\n",
    ")\n",
    "mycursor = mydb.cursor()\n",
    "#mycursor.execute(\"CREATE DATABASE mydatabase\")\n",
    "mycursor.execute(\"SHOW DATABASES\")\n",
    "for x in mycursor:\n",
    "  print(x)"
   ]
  },
  {
   "cell_type": "code",
   "execution_count": 34,
   "metadata": {},
   "outputs": [],
   "source": [
    "mydb = mysql.connector.connect(\n",
    "  host=\"localhost\",\n",
    "  user=\"kevindaniel\",\n",
    "  password=\"123456789\",\n",
    "  database=\"mydatabase\"\n",
    ")\n",
    "mycursor = mydb.cursor()"
   ]
  },
  {
   "cell_type": "markdown",
   "metadata": {},
   "source": [
    "# TABLE"
   ]
  },
  {
   "cell_type": "code",
   "execution_count": 52,
   "metadata": {},
   "outputs": [],
   "source": [
    "# LEGITIMATE\n",
    "mycursor.execute(\"CREATE TABLE trial (ROW_NO int NOT NULL AUTO_INCREMENT, TwoThousand VARCHAR(255), FiveHundred VARCHAR(255), TwoHundred VARCHAR(255), Hundred VARCHAR(255), Fifty VARCHAR(255), Twenty VARCHAR(255), Ten VARCHAR(255), PRIMARY KEY (ROW_NO))\")\n",
    "\n",
    "# ILLICIT\n",
    "mycursor.execute(\"CREATE TABLE trial_illicit (ROW_NO int NOT NULL AUTO_INCREMENT, TwoThousand VARCHAR(255), FiveHundred VARCHAR(255), TwoHundred VARCHAR(255), Hundred VARCHAR(255), Fifty VARCHAR(255), Twenty VARCHAR(255), Ten VARCHAR(255), PRIMARY KEY (ROW_NO))\")\n",
    "\n",
    "# TRANSACTION RECORD\n",
    "mycursor.execute(\"CREATE TABLE Transation_log (ROW_NO int NOT NULL AUTO_INCREMENT, Location VARCHAR(255), Date VARCHAR(255), Time VARCHAR(255), BillValue_ByMerchant INT, TotalValue_ByCustomer INT, ImageAddress VARCHAR(255), SuspeciousCondition VARCHAR(255), StollenSerialNumberFound VARCHAR(255), TransactionState VARCHAR(255), PRIMARY KEY (ROW_NO))\")"
   ]
  },
  {
   "cell_type": "markdown",
   "metadata": {},
   "source": [
    "# CLIENT USE"
   ]
  },
  {
   "cell_type": "code",
   "execution_count": 53,
   "metadata": {},
   "outputs": [
    {
     "name": "stdout",
     "output_type": "stream",
     "text": [
      "Location, Date, Time, BillValue_ByMerchant, TotalValue_ByCustomer, ImageAddress, SuspeciousCondition, TransactionState\n"
     ]
    }
   ],
   "source": [
    "# For Legitimate table\n",
    "global SQL_data_insertion_log, SQL_total_row_count\n",
    "SQL_data_insertion_log = [0, 0, 0, 0, 0, 0, 0] #PER COLUMN\n",
    "SQL_total_row_count = 0                        #OVERALL ROW\n",
    "\n",
    "# For Transaction Table\n",
    "Transaction_Log_Column_Name = [\"Location\", \"Date\", \"Time\", \"BillValue_ByMerchant\", \"TotalValue_ByCustomer\", \"ImageAddress\", \"SuspeciousCondition\", \"TransactionState\"]\n",
    "str_Transaction_Log_Column_Name = \"\"\n",
    "for i in range(8):\n",
    "    if i==7:\n",
    "        str_Transaction_Log_Column_Name = (str_Transaction_Log_Column_Name + str(Transaction_Log_Column_Name[i]))        \n",
    "    else:\n",
    "        str_Transaction_Log_Column_Name = (str_Transaction_Log_Column_Name + str(Transaction_Log_Column_Name[i] + \", \"))\n",
    "        \n",
    "print(str_Transaction_Log_Column_Name)\n",
    "\n",
    "global TOTAL_NO_of_RECORD_in_TRANSACTION_LOG\n",
    "TOTAL_NO_of_RECORD_in_TRANSACTION_LOG = 0"
   ]
  },
  {
   "cell_type": "code",
   "execution_count": 54,
   "metadata": {},
   "outputs": [],
   "source": [
    "def SQL_DATABASE_CONNECT(INPUT_SERIAL_NUMBER_PARAMETER, INPUT_DENOMINATION_PARAMETER, DISPENSED_PARAMETER):\n",
    "    \n",
    "    stollen_serialnumber_match_holder = [] # to hold stollen serial number\n",
    "    def SQL_illicit_record(SNO, Denomination):\n",
    "        STOLLEN_CONDITION = 0\n",
    "        for i in range(len(Denomination)):\n",
    "            mycursor.execute(\"SELECT \" + Denomination[i] + \" FROM trial_illicit\")\n",
    "            myresult = mycursor.fetchall()\n",
    "            for x in myresult:\n",
    "                check_result = (x[0] == SNO[i])\n",
    "                if check_result == True:\n",
    "                    STOLLEN_CONDITION = STOLLEN_CONDITION + 1\n",
    "                    stollen_serialnumber_match_holder.append([x[0], Denomination[i]])\n",
    "                else:\n",
    "                    pass\n",
    "        return STOLLEN_CONDITION\n",
    "    \n",
    "    stollen_bank_notes = SQL_illicit_record(INPUT_SERIAL_NUMBER_PARAMETER, INPUT_DENOMINATION_PARAMETER)\n",
    "    \n",
    "    if stollen_bank_notes == 0:      \n",
    "        def SQL_insert(SNO, DENOMINATION):\n",
    "            global SQL_data_insertion_log, SQL_total_row_count\n",
    "            for i in range(len(SNO)):\n",
    "                if DENOMINATION[i] == 'TwoThousand':\n",
    "                    if SQL_total_row_count == SQL_data_insertion_log[0]:\n",
    "                        query = \"INSERT INTO trial (\" + DENOMINATION[i] +\") VALUES ('\" + SNO[i] +\"')\"\n",
    "                        query_str = str(query)\n",
    "                        mycursor.execute(query_str)\n",
    "                        mydb.commit()\n",
    "                        print(\"record inserted, ID:\", mycursor.lastrowid)\n",
    "                        SQL_data_insertion_log[0] = SQL_data_insertion_log[0] + 1\n",
    "                        SQL_total_row_count = SQL_total_row_count + 1\n",
    "            \n",
    "                    else:\n",
    "                        query = \"UPDATE trial SET \" + DENOMINATION[i] + \" = '\" + SNO[i] + \"' WHERE ROW_NO = \" + str(SQL_data_insertion_log[0]+1)\n",
    "                        query_str = str(query)\n",
    "                        mycursor.execute(query_str)\n",
    "                        mydb.commit()\n",
    "                        print(mycursor.rowcount, \"record(s) affected\")\n",
    "                        SQL_data_insertion_log[0] = SQL_data_insertion_log[0] + 1\n",
    "                        \n",
    "                elif DENOMINATION[i] == 'FiveHundred':\n",
    "                    if SQL_total_row_count == SQL_data_insertion_log[1]:\n",
    "                        query = \"INSERT INTO trial (\" + DENOMINATION[i] +\") VALUES ('\" + SNO[i] +\"')\"\n",
    "                        query_str = str(query)\n",
    "                        mycursor.execute(query_str)\n",
    "                        mydb.commit()\n",
    "                        print(\"record inserted, ID:\", mycursor.lastrowid)\n",
    "                        SQL_data_insertion_log[1] = SQL_data_insertion_log[1] + 1\n",
    "                        SQL_total_row_count = SQL_total_row_count + 1\n",
    "            \n",
    "                    else:\n",
    "                        query = \"UPDATE trial SET \" + DENOMINATION[i] + \" = '\" + SNO[i] + \"' WHERE ROW_NO = \" + str(SQL_data_insertion_log[1]+1)\n",
    "                        query_str = str(query)\n",
    "                        mycursor.execute(query_str)\n",
    "                        mydb.commit()\n",
    "                        print(mycursor.rowcount, \"record(s) affected\")\n",
    "                        SQL_data_insertion_log[1] = SQL_data_insertion_log[1] + 1\n",
    "                        \n",
    "                elif DENOMINATION[i] == 'TwoHundred':\n",
    "                    if SQL_total_row_count == SQL_data_insertion_log[2]:\n",
    "                        query = \"INSERT INTO trial (\" + DENOMINATION[i] +\") VALUES ('\" + SNO[i] +\"')\"\n",
    "                        query_str = str(query)\n",
    "                        mycursor.execute(query_str)\n",
    "                        mydb.commit()\n",
    "                        print(\"record inserted, ID:\", mycursor.lastrowid)\n",
    "                        SQL_data_insertion_log[2] = SQL_data_insertion_log[2] + 1\n",
    "                        SQL_total_row_count = SQL_total_row_count + 1\n",
    "            \n",
    "                    else:\n",
    "                        query = \"UPDATE trial SET \" + DENOMINATION[i] + \" = '\" + SNO[i] + \"' WHERE ROW_NO = \" + str(SQL_data_insertion_log[2]+1)\n",
    "                        query_str = str(query)\n",
    "                        mycursor.execute(query_str)\n",
    "                        mydb.commit()\n",
    "                        print(mycursor.rowcount, \"record(s) affected\")\n",
    "                        SQL_data_insertion_log[2] = SQL_data_insertion_log[2] + 1\n",
    "                        \n",
    "                elif DENOMINATION[i] == 'Hundred':\n",
    "                    if SQL_total_row_count == SQL_data_insertion_log[3]:\n",
    "                        query = \"INSERT INTO trial (\" + DENOMINATION[i] +\") VALUES ('\" + SNO[i] +\"')\"\n",
    "                        query_str = str(query)\n",
    "                        mycursor.execute(query_str)\n",
    "                        mydb.commit()\n",
    "                        print(\"record inserted, ID:\", mycursor.lastrowid)\n",
    "                        SQL_data_insertion_log[3] = SQL_data_insertion_log[3] + 1\n",
    "                        SQL_total_row_count = SQL_total_row_count + 1\n",
    "            \n",
    "                    else:\n",
    "                        query = \"UPDATE trial SET \" + DENOMINATION[i] + \" = '\" + SNO[i] + \"' WHERE ROW_NO = \" + str(SQL_data_insertion_log[3]+1)\n",
    "                        query_str = str(query)\n",
    "                        mycursor.execute(query_str)\n",
    "                        mydb.commit()\n",
    "                        print(mycursor.rowcount, \"record(s) affected\")\n",
    "                        SQL_data_insertion_log[3] = SQL_data_insertion_log[3] + 1\n",
    "                        \n",
    "                elif DENOMINATION[i] == 'Fifty':\n",
    "                    if SQL_total_row_count == SQL_data_insertion_log[4]:\n",
    "                        query = \"INSERT INTO trial (\" + DENOMINATION[i] +\") VALUES ('\" + SNO[i] +\"')\"\n",
    "                        query_str = str(query)\n",
    "                        mycursor.execute(query_str)\n",
    "                        mydb.commit()\n",
    "                        print(\"record inserted, ID:\", mycursor.lastrowid)\n",
    "                        SQL_data_insertion_log[4] = SQL_data_insertion_log[4] + 1\n",
    "                        SQL_total_row_count = SQL_total_row_count + 1\n",
    "            \n",
    "                    else:\n",
    "                        query = \"UPDATE trial SET \" + DENOMINATION[i] + \" = '\" + SNO[i] + \"' WHERE ROW_NO = \" + str(SQL_data_insertion_log[4]+1)\n",
    "                        query_str = str(query)\n",
    "                        mycursor.execute(query_str)\n",
    "                        mydb.commit()\n",
    "                        print(mycursor.rowcount, \"record(s) affected\")\n",
    "                        SQL_data_insertion_log[4] = SQL_data_insertion_log[4] + 1\n",
    "                        \n",
    "                elif DENOMINATION[i] == 'Twenty':\n",
    "                    if SQL_total_row_count == SQL_data_insertion_log[5]:\n",
    "                        query = \"INSERT INTO trial (\" + DENOMINATION[i] +\") VALUES ('\" + SNO[i] +\"')\"\n",
    "                        query_str = str(query)\n",
    "                        mycursor.execute(query_str)\n",
    "                        mydb.commit()\n",
    "                        print(\"record inserted, ID:\", mycursor.lastrowid)\n",
    "                        SQL_data_insertion_log[5] = SQL_data_insertion_log[5] + 1\n",
    "                        SQL_total_row_count = SQL_total_row_count + 1\n",
    "            \n",
    "                    else:\n",
    "                        query = \"UPDATE trial SET \" + DENOMINATION[i] + \" = '\" + SNO[i] + \"' WHERE ROW_NO = \" + str(SQL_data_insertion_log[5]+1)\n",
    "                        query_str = str(query)\n",
    "                        mycursor.execute(query_str)\n",
    "                        mydb.commit()\n",
    "                        print(mycursor.rowcount, \"record(s) affected\")\n",
    "                        SQL_data_insertion_log[5] = SQL_data_insertion_log[5] + 1\n",
    "                        \n",
    "                elif DENOMINATION[i] == 'Ten':\n",
    "                    if SQL_total_row_count == SQL_data_insertion_log[6]:\n",
    "                        query = \"INSERT INTO trial (\" + DENOMINATION[i] +\") VALUES ('\" + SNO[i] +\"')\"\n",
    "                        query_str = str(query)\n",
    "                        mycursor.execute(query_str)\n",
    "                        mydb.commit()\n",
    "                        print(\"record inserted, ID:\", mycursor.lastrowid)\n",
    "                        SQL_data_insertion_log[6] = SQL_data_insertion_log[6] + 1\n",
    "                        SQL_total_row_count = SQL_total_row_count + 1\n",
    "            \n",
    "                    else:\n",
    "                        query = \"UPDATE trial SET \" + DENOMINATION[i] + \" = '\" + SNO[i] + \"' WHERE ROW_NO = \" + str(SQL_data_insertion_log[6]+1)\n",
    "                        query_str = str(query)\n",
    "                        mycursor.execute(query_str)\n",
    "                        mydb.commit()\n",
    "                        print(mycursor.rowcount, \"record(s) affected\")\n",
    "                        SQL_data_insertion_log[6] = SQL_data_insertion_log[6] + 1\n",
    "                else:\n",
    "                    pass\n",
    "                        \n",
    "        \n",
    "        global column_name\n",
    "        column_name = ['TwoThousand', 'FiveHundred', 'TwoHundred', 'Hundred', 'Fifty', 'Twenty', 'Ten']\n",
    "        \n",
    "        def SQL_delete(delete):\n",
    "            total_deletion = 0\n",
    "            for i in range(len(delete)):\n",
    "                total_deletion = total_deletion + delete[i]\n",
    "            \n",
    "            if total_deletion > 0:\n",
    "                for i in range(len(delete)):\n",
    "                    if delete[i] > 0:\n",
    "                        for j in range(delete[i]):\n",
    "                            #query = \"UPDATE trial SET TwoThousand = null WHERE ROW_NO = \" + str(SQL_data_insertion_log[0])\n",
    "                            query = \"UPDATE trial SET \" + column_name[i] + \" = null WHERE ROW_NO = \" + str(SQL_data_insertion_log[i])\n",
    "                            query_str = str(query)\n",
    "                            mycursor.execute(query_str)\n",
    "                            mydb.commit()\n",
    "                            SQL_data_insertion_log[i] = SQL_data_insertion_log[i] - 1\n",
    "                            print(mycursor.rowcount, \"record(s) deleted\")\n",
    "                    else:\n",
    "                        pass\n",
    "            else:\n",
    "                pass\n",
    "        \n",
    "        SQL_insert(INPUT_SERIAL_NUMBER_PARAMETER, INPUT_DENOMINATION_PARAMETER) # Function Call\n",
    "        SQL_delete(DISPENSED_PARAMETER) #Function Call\n",
    "        \n",
    "    if stollen_bank_notes == 0:\n",
    "        print(\"SQL record operations success\")\n",
    "        return False, 0\n",
    "    else:\n",
    "        print(stollen_bank_notes, \"Stollen Banknotes Found\")\n",
    "        return True, stollen_serialnumber_match_holder"
   ]
  },
  {
   "cell_type": "markdown",
   "metadata": {},
   "source": [
    "# CONTINUE work"
   ]
  },
  {
   "cell_type": "code",
   "execution_count": 50,
   "metadata": {},
   "outputs": [
    {
     "ename": "NameError",
     "evalue": "name 'current_date' is not defined",
     "output_type": "error",
     "traceback": [
      "\u001b[1;31m---------------------------------------------------------------------------\u001b[0m",
      "\u001b[1;31mNameError\u001b[0m                                 Traceback (most recent call last)",
      "\u001b[1;32m<ipython-input-50-dae2998a2031>\u001b[0m in \u001b[0;36m<module>\u001b[1;34m\u001b[0m\n\u001b[0;32m     15\u001b[0m \u001b[0mTransaction_data\u001b[0m \u001b[1;33m=\u001b[0m \u001b[1;34m\"\"\u001b[0m\u001b[1;33m\u001b[0m\u001b[1;33m\u001b[0m\u001b[0m\n\u001b[0;32m     16\u001b[0m \u001b[1;32mif\u001b[0m \u001b[0mSTOLLEN_CONDITION\u001b[0m \u001b[1;33m==\u001b[0m \u001b[1;32mTrue\u001b[0m\u001b[1;33m:\u001b[0m\u001b[1;33m\u001b[0m\u001b[1;33m\u001b[0m\u001b[0m\n\u001b[1;32m---> 17\u001b[1;33m     \u001b[0mdata_to_be_recorded\u001b[0m \u001b[1;33m=\u001b[0m \u001b[1;33m[\u001b[0m\u001b[1;34m\"001|Kolathur|Chennai|TamilNadu|600099\"\u001b[0m\u001b[1;33m,\u001b[0m \u001b[0mstr\u001b[0m\u001b[1;33m(\u001b[0m\u001b[0mcurrent_date\u001b[0m\u001b[1;33m)\u001b[0m\u001b[1;33m,\u001b[0m \u001b[0mstr\u001b[0m\u001b[1;33m(\u001b[0m\u001b[0mcurrent_time\u001b[0m\u001b[1;33m)\u001b[0m\u001b[1;33m,\u001b[0m \u001b[0mbilling_value\u001b[0m\u001b[1;33m,\u001b[0m \u001b[0mtotal_value_of_bank_notes_given\u001b[0m\u001b[1;33m,\u001b[0m \u001b[0mstr\u001b[0m\u001b[1;33m(\u001b[0m\u001b[0mtemp_image_address_holder\u001b[0m\u001b[1;33m)\u001b[0m\u001b[1;33m,\u001b[0m \u001b[1;34m\"Suspecious\"\u001b[0m\u001b[1;33m,\u001b[0m \u001b[1;34m\"Failed\"\u001b[0m\u001b[1;33m]\u001b[0m\u001b[1;33m\u001b[0m\u001b[1;33m\u001b[0m\u001b[0m\n\u001b[0m\u001b[0;32m     18\u001b[0m     \u001b[0mTransaction_data\u001b[0m \u001b[1;33m=\u001b[0m \u001b[0mdata_to_be_recorded\u001b[0m\u001b[1;33m\u001b[0m\u001b[1;33m\u001b[0m\u001b[0m\n\u001b[0;32m     19\u001b[0m \u001b[1;32melif\u001b[0m \u001b[0mSTOLLEN_CONDITION\u001b[0m \u001b[1;33m==\u001b[0m \u001b[1;32mFalse\u001b[0m\u001b[1;33m:\u001b[0m\u001b[1;33m\u001b[0m\u001b[1;33m\u001b[0m\u001b[0m\n",
      "\u001b[1;31mNameError\u001b[0m: name 'current_date' is not defined"
     ]
    }
   ],
   "source": [
    "def SQL_Transaction_Log(transaction_data):\n",
    "    global TOTAL_NO_of_RECORD_in_TRANSACTION_LOG\n",
    "    #query = \"INSERT INTO Transation_log (\" + str(str_Transaction_Log_Column_Name) + \") VALUES ('\" + transaction_data[0] + \"', '\" + transaction_data[1] + \"', '\" + transaction_data[2]\"', \" + transaction_data[3] + \", \" + transaction_data[4] + \", '\" + transaction_data[5] + \"', '\" + transaction_data[6]\"')\" \n",
    "    if TOTAL_NO_of_RECORD_in_TRANSACTION_LOG == 0:\n",
    "        query = \"INSERT INTO Transation_log (\" + str(str_Transaction_Log_Column_Name) + \") VALUES ('\"+transaction_data[0]+ \"','\"+transaction_data[1]+ \"','\"+transaction_data[2]+ \"',\"+str(transaction_data[3])+ \",\"+str(transaction_data[4])+ \",'\"+transaction_data[5]+ \"','\"+transaction_data[6]+ \"','\"+transaction_data[7]+ \"')\"\n",
    "        TOTAL_NO_of_RECORD_in_TRANSACTION_LOG = TOTAL_NO_of_RECORD_in_TRANSACTION_LOG + 1\n",
    "    else:\n",
    "        query = \"INSERT INTO Transation_log (\" + str(str_Transaction_Log_Column_Name) + \") VALUES ('\"+transaction_data[0]+ \"','\"+transaction_data[1]+ \"','\"+transaction_data[2]+ \"',\"+str(transaction_data[3])+ \",\"+str(transaction_data[4])+ \",'\"+transaction_data[5]+ \"','\"+transaction_data[6]+ \"','\"+transaction_data[7]+ \"')WHERE ROW_NO = \" + str(TOTAL_NO_of_RECORD_in_TRANSACTION_LOG)        \n",
    "        TOTAL_NO_of_RECORD_in_TRANSACTION_LOG = TOTAL_NO_of_RECORD_in_TRANSACTION_LOG + 1\n",
    "    query_str = str(query)\n",
    "    mycursor.execute(query_str)\n",
    "    mydb.commit()\n",
    "    print(\"record inserted, ID:\", mycursor.lastrowid)\n",
    "\n",
    "Transaction_data = \"\"\n",
    "if STOLLEN_CONDITION == True:\n",
    "    data_to_be_recorded = [\"001|Kolathur|Chennai|TamilNadu|600099\", str(current_date), str(current_time), billing_value, total_value_of_bank_notes_given, str(temp_image_address_holder), \"Suspecious\", str(stollen_serialno_SQL_data), \"Failed\"]\n",
    "    Transaction_data = data_to_be_recorded\n",
    "elif STOLLEN_CONDITION == False:\n",
    "    data_to_be_recorded = [\"001|Kolathur|Chennai|TamilNadu|600099\", str(current_date), str(current_time), billing_value, total_value_of_bank_notes_given, None, \"Not-Suspecious\", None, \"Success\"]\n",
    "    Transaction_data = data_to_be_recorded    "
   ]
  },
  {
   "cell_type": "code",
   "execution_count": 48,
   "metadata": {},
   "outputs": [],
   "source": [
    "a, b, c = [\"stollen1\",\"not_stollen2\",\"stollen3\"], [\"TwoThousand\", \"FiveHundred\", \"Ten\"], [0,0,0,0,0,0,0]\n",
    "data = [\"001|Kolathur|Chennai|TamilNadu|600099\", \"22:10:2021:Friday\", \"10:35:27:AM\", 200, 200, r\"C:\\Users\\kevin\\Desktop\\TEST\\100\", \"NotSuspecious\", \"Success\"]"
   ]
  },
  {
   "cell_type": "code",
   "execution_count": 66,
   "metadata": {},
   "outputs": [
    {
     "name": "stdout",
     "output_type": "stream",
     "text": [
      "2 Stollen Banknotes Found\n",
      "[['stollen1', 'TwoThousand'], ['stollen1', 'TwoThousand']]\n",
      "stollen1 | TwoThousand, stollen1 | TwoThousand, \n"
     ]
    }
   ],
   "source": [
    "# SQL Function Parameters Order\n",
    "# INPUT_SERIAL_NUMBER_PARAMETER, INPUT_DENOMINATION_PARAMETER, DISPENSED_PARAMETER, TRANSACTION_DETAILS_PARAMETER\n",
    "# DISPENSED_PARAMETER = must be in length of 7\n",
    "stollen_serialno_SQL_data = \"\"\n",
    "\n",
    "STOLLEN_CONDITION, STOLLEN_SERIAL_NUMBER = SQL_DATABASE_CONNECT(a, b, c) # SQL data check and entry\n",
    "print(STOLLEN_SERIAL_NUMBER)\n",
    "\n",
    "if STOLLEN_CONDITION == True:\n",
    "    stollen_serialno_SQL_data = \"\"\n",
    "    for i in range(len(STOLLEN_SERIAL_NUMBER)):\n",
    "        temp = str(STOLLEN_SERIAL_NUMBER[i][0]) + \" | \" + str(STOLLEN_SERIAL_NUMBER[i][1] + \", \")\n",
    "        stollen_serialno_SQL_data = stollen_serialno_SQL_data + temp                \n",
    "                \n",
    "#SQL_Transaction_Log(Transaction_data) # SQL transaction entry\n",
    "print(stollen_serialno_SQL_data)"
   ]
  },
  {
   "cell_type": "markdown",
   "metadata": {},
   "source": [
    "# DATABASE PROVIDER'S USE"
   ]
  },
  {
   "cell_type": "code",
   "execution_count": 57,
   "metadata": {},
   "outputs": [
    {
     "name": "stdout",
     "output_type": "stream",
     "text": [
      "record inserted, ID: 2\n"
     ]
    }
   ],
   "source": [
    "query = \"INSERT INTO trial_illicit (TwoThousand) VALUES ('stollen1')\"\n",
    "query_str = str(query)\n",
    "mycursor.execute(query_str)\n",
    "mydb.commit()\n",
    "print(\"record inserted, ID:\", mycursor.lastrowid)"
   ]
  },
  {
   "cell_type": "code",
   "execution_count": 30,
   "metadata": {},
   "outputs": [
    {
     "name": "stdout",
     "output_type": "stream",
     "text": [
      "1 record(s) affected\n"
     ]
    }
   ],
   "source": [
    "# UPDATE\n",
    "\n",
    "query = \"UPDATE trial_illicit SET Ten = 'stollen3' WHERE ROW_NO = 1\"\n",
    "query_str = str(query)\n",
    "mycursor.execute(query_str)\n",
    "mydb.commit()\n",
    "print(mycursor.rowcount, \"record(s) affected\")"
   ]
  },
  {
   "cell_type": "markdown",
   "metadata": {},
   "source": [
    "# SELECT / DROP"
   ]
  },
  {
   "cell_type": "code",
   "execution_count": 47,
   "metadata": {},
   "outputs": [
    {
     "name": "stdout",
     "output_type": "stream",
     "text": [
      "ILLICIT______________________________________________________________\n",
      "\n",
      "(1, 'stollen1', None, None, None, None, None, None)\n",
      "(2, 'stollen1', None, None, None, None, None, None)\n",
      "\n",
      "LEGITIMATE_________________________________________________________\n",
      "\n",
      "\n",
      "DATA LOG___________________________________________________________\n",
      "\n",
      "[0, 0, 0, 0, 0, 0, 0] 0\n",
      "\n",
      "TRANSACTION LOG____________________________________________________\n",
      "\n"
     ]
    }
   ],
   "source": [
    "print(\"ILLICIT______________________________________________________________\\n\")\n",
    "# SELECT\n",
    "mycursor.execute(\"SELECT * FROM trial_illicit\")\n",
    "myresult = mycursor.fetchall()\n",
    "#print(myresult)\n",
    "for x in myresult:\n",
    "  print(x)\n",
    "\n",
    "print(\"\\nLEGITIMATE_________________________________________________________\\n\")\n",
    "# SELECT\n",
    "mycursor.execute(\"SELECT * FROM trial\")\n",
    "myresult = mycursor.fetchall()\n",
    "for x in myresult:\n",
    "  print(x)\n",
    "\n",
    "print(\"\\nDATA LOG___________________________________________________________\\n\")\n",
    "print(SQL_data_insertion_log, SQL_total_row_count)\n",
    "\n",
    "print(\"\\nTRANSACTION LOG____________________________________________________\\n\")\n",
    "# SELECT\n",
    "mycursor.execute(\"SELECT * FROM Transation_log\")\n",
    "myresult = mycursor.fetchall()\n",
    "for x in myresult:\n",
    "  print(x)"
   ]
  },
  {
   "cell_type": "code",
   "execution_count": 67,
   "metadata": {},
   "outputs": [],
   "source": [
    "# Illicit\n",
    "sql = \"DROP TABLE trial_illicit\"\n",
    "mycursor.execute(sql)\n",
    "\n",
    "# Legitimate \n",
    "sql = \"DROP TABLE trial\"\n",
    "mycursor.execute(sql)\n",
    "\n",
    "# Transaction\n",
    "sql = \"DROP TABLE Transation_log\"\n",
    "mycursor.execute(sql)"
   ]
  },
  {
   "cell_type": "code",
   "execution_count": null,
   "metadata": {},
   "outputs": [],
   "source": []
  },
  {
   "cell_type": "code",
   "execution_count": null,
   "metadata": {},
   "outputs": [],
   "source": []
  }
 ],
 "metadata": {
  "kernelspec": {
   "display_name": "Python 3",
   "language": "python",
   "name": "python3"
  },
  "language_info": {
   "codemirror_mode": {
    "name": "ipython",
    "version": 3
   },
   "file_extension": ".py",
   "mimetype": "text/x-python",
   "name": "python",
   "nbconvert_exporter": "python",
   "pygments_lexer": "ipython3",
   "version": "3.8.3"
  }
 },
 "nbformat": 4,
 "nbformat_minor": 4
}
