{
 "cells": [
  {
   "cell_type": "code",
   "execution_count": 23,
   "metadata": {},
   "outputs": [
    {
     "name": "stdout",
     "output_type": "stream",
     "text": [
      "('information_schema',)\n",
      "('mydatabase',)\n",
      "('mysql',)\n",
      "('performance_schema',)\n",
      "('sakila',)\n",
      "('sys',)\n",
      "('world',)\n"
     ]
    }
   ],
   "source": [
    "import mysql.connector\n",
    "mydb = mysql.connector.connect(\n",
    "  host=\"localhost\",\n",
    "  user=\"kevindaniel\",\n",
    "  password=\"123456789\"\n",
    ")\n",
    "mycursor = mydb.cursor()\n",
    "#mycursor.execute(\"CREATE DATABASE mydatabase\")\n",
    "mycursor.execute(\"SHOW DATABASES\")\n",
    "for x in mycursor:\n",
    "  print(x)"
   ]
  },
  {
   "cell_type": "code",
   "execution_count": 24,
   "metadata": {},
   "outputs": [],
   "source": [
    "mydb = mysql.connector.connect(\n",
    "  host=\"localhost\",\n",
    "  user=\"kevindaniel\",\n",
    "  password=\"123456789\",\n",
    "  database=\"mydatabase\"\n",
    ")\n",
    "mycursor = mydb.cursor()"
   ]
  },
  {
   "cell_type": "code",
   "execution_count": 61,
   "metadata": {},
   "outputs": [],
   "source": [
    "mycursor.execute(\"CREATE TABLE Transation_log (ROW_NO int NOT NULL AUTO_INCREMENT, Location VARCHAR(255), Date VARCHAR(255), Time VARCHAR(255), BillValue_ByMerchant INT, TotalValue_ByCustomer INT, ImageAddress VARCHAR(255), SuspeciousCondition VARCHAR(255), TransactionState VARCHAR(255), PRIMARY KEY (ROW_NO))\")"
   ]
  },
  {
   "cell_type": "code",
   "execution_count": 62,
   "metadata": {},
   "outputs": [
    {
     "name": "stdout",
     "output_type": "stream",
     "text": [
      "Location, Date, Time, BillValue_ByMerchant, TotalValue_ByCustomer, ImageAddress, SuspeciousCondition, TransactionState\n"
     ]
    }
   ],
   "source": [
    "Transaction_Log_Column_Name = [\"Location\", \"Date\", \"Time\", \"BillValue_ByMerchant\", \"TotalValue_ByCustomer\", \"ImageAddress\", \"SuspeciousCondition\", \"TransactionState\"]\n",
    "str_Transaction_Log_Column_Name = \"\"\n",
    "for i in range(8):\n",
    "    if i==7:\n",
    "        str_Transaction_Log_Column_Name = (str_Transaction_Log_Column_Name + str(Transaction_Log_Column_Name[i]))        \n",
    "    else:\n",
    "        str_Transaction_Log_Column_Name = (str_Transaction_Log_Column_Name + str(Transaction_Log_Column_Name[i] + \", \"))\n",
    "        \n",
    "print(str_Transaction_Log_Column_Name)"
   ]
  },
  {
   "cell_type": "code",
   "execution_count": 63,
   "metadata": {},
   "outputs": [],
   "source": [
    "data = [\"001|Kolathur|Chennai|TamilNadu|600099\", \"22:10:2021:Friday\", \"10:35:27:AM\", 200, 200, r\"C:\\Users\\kevin\\Desktop\\TEST\\100\", \"NotSuspecious\", \"Success\"]"
   ]
  },
  {
   "cell_type": "code",
   "execution_count": 66,
   "metadata": {},
   "outputs": [
    {
     "name": "stdout",
     "output_type": "stream",
     "text": [
      "record inserted, ID: 2\n"
     ]
    }
   ],
   "source": [
    "global TOTAL_NO_of_RECORD_in_TRANSACTION_LOG\n",
    "TOTAL_NO_of_RECORD_in_TRANSACTION_LOG = 0\n",
    "\n",
    "def SQL_Transaction_Log(transaction_data):\n",
    "    global TOTAL_NO_of_RECORD_in_TRANSACTION_LOG\n",
    "    #query = \"INSERT INTO Transation_log (\" + str(str_Transaction_Log_Column_Name) + \") VALUES ('\" + transaction_data[0] + \"', '\" + transaction_data[1] + \"', '\" + transaction_data[2]\"', \" + transaction_data[3] + \", \" + transaction_data[4] + \", '\" + transaction_data[5] + \"', '\" + transaction_data[6]\"')\" \n",
    "    if TOTAL_NO_of_RECORD_in_TRANSACTION_LOG == 0:\n",
    "        query = \"INSERT INTO Transation_log (\" + str(str_Transaction_Log_Column_Name) + \") VALUES ('\"+transaction_data[0]+ \"','\"+transaction_data[1]+ \"','\"+transaction_data[2]+ \"',\"+str(transaction_data[3])+ \",\"+str(transaction_data[4])+ \",'\"+transaction_data[5]+ \"','\"+transaction_data[6]+ \"','\"+transaction_data[7]+ \"')\"\n",
    "        TOTAL_NO_of_RECORD_in_TRANSACTION_LOG = TOTAL_NO_of_RECORD_in_TRANSACTION_LOG + 1\n",
    "    else:\n",
    "        query = \"INSERT INTO Transation_log (\" + str(str_Transaction_Log_Column_Name) + \") VALUES ('\"+transaction_data[0]+ \"','\"+transaction_data[1]+ \"','\"+transaction_data[2]+ \"',\"+str(transaction_data[3])+ \",\"+str(transaction_data[4])+ \",'\"+transaction_data[5]+ \"','\"+transaction_data[6]+ \"','\"+transaction_data[7]+ \"')WHERE ROW_NO = \" + str(TOTAL_NO_of_RECORD_in_TRANSACTION_LOG)        \n",
    "        TOTAL_NO_of_RECORD_in_TRANSACTION_LOG = TOTAL_NO_of_RECORD_in_TRANSACTION_LOG + 1\n",
    "    query_str = str(query)\n",
    "    mycursor.execute(query_str)\n",
    "    mydb.commit()\n",
    "    print(\"record inserted, ID:\", mycursor.lastrowid)\n",
    "    \n",
    "SQL_Transaction_Log(data)"
   ]
  },
  {
   "cell_type": "code",
   "execution_count": null,
   "metadata": {},
   "outputs": [],
   "source": []
  },
  {
   "cell_type": "code",
   "execution_count": null,
   "metadata": {},
   "outputs": [],
   "source": []
  },
  {
   "cell_type": "code",
   "execution_count": null,
   "metadata": {},
   "outputs": [],
   "source": []
  },
  {
   "cell_type": "code",
   "execution_count": null,
   "metadata": {},
   "outputs": [],
   "source": []
  },
  {
   "cell_type": "code",
   "execution_count": null,
   "metadata": {},
   "outputs": [],
   "source": []
  },
  {
   "cell_type": "code",
   "execution_count": null,
   "metadata": {},
   "outputs": [],
   "source": []
  },
  {
   "cell_type": "code",
   "execution_count": null,
   "metadata": {},
   "outputs": [],
   "source": []
  },
  {
   "cell_type": "code",
   "execution_count": 67,
   "metadata": {},
   "outputs": [
    {
     "name": "stdout",
     "output_type": "stream",
     "text": [
      "(1, '001|Kolathur|Chennai|TamilNadu|600099', '22:10:2021:Friday', '10:35:27:AM', 200, 200, 'C:UserskevinDesktopTEST100', 'NotSuspecious', 'Success')\n",
      "(2, '001|Kolathur|Chennai|TamilNadu|600099', '22:10:2021:Friday', '10:35:27:AM', 200, 200, 'C:UserskevinDesktopTEST100', 'NotSuspecious', 'Success')\n"
     ]
    }
   ],
   "source": [
    "# SELECT\n",
    "mycursor.execute(\"SELECT * FROM Transation_log\")\n",
    "myresult = mycursor.fetchall()\n",
    "for x in myresult:\n",
    "  print(x)"
   ]
  },
  {
   "cell_type": "code",
   "execution_count": 68,
   "metadata": {},
   "outputs": [],
   "source": [
    "# DROP TABLE\n",
    "sql = \"DROP TABLE Transation_log\"\n",
    "mycursor.execute(sql)"
   ]
  },
  {
   "cell_type": "code",
   "execution_count": null,
   "metadata": {},
   "outputs": [],
   "source": []
  }
 ],
 "metadata": {
  "kernelspec": {
   "display_name": "Python 3",
   "language": "python",
   "name": "python3"
  },
  "language_info": {
   "codemirror_mode": {
    "name": "ipython",
    "version": 3
   },
   "file_extension": ".py",
   "mimetype": "text/x-python",
   "name": "python",
   "nbconvert_exporter": "python",
   "pygments_lexer": "ipython3",
   "version": "3.8.3"
  }
 },
 "nbformat": 4,
 "nbformat_minor": 4
}
