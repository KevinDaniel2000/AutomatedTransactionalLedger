{
 "cells": [
  {
   "cell_type": "code",
   "execution_count": 29,
   "metadata": {},
   "outputs": [
    {
     "name": "stdout",
     "output_type": "stream",
     "text": [
      "['3IM042289', '8EG200443', '1NU920694', '2MD846924', '8RV388499', '6HB698184', '9HD504185', '1LX301246', '2YL522003', '3BG877933', '5OB689458', '8FA252896', '4HS259202', '8MX875146', '8OX677433', '0OR672237', '2YP629917', '5GO127626', '5PM839085', '2BM540701', '1RR575143', '7FF006060', '3SG230251', '8QA719483', '0GB535021', '4XJ557921', '1OL596800', '9EP047913', '3VS200417', '8UP018251', '4UR235304', '6PW308941', '9FJ140648', '2YN590321', '0NM988993', '5ZF049010', '4AP581538', '6NC359206', '6CJ033775', '6UT755276', '2QR072234', '9SK615109', '2MA917495', '1XD787322', '7LZ726059', '1MC076445', '9GQ526615', '7NV525849', '0IB762618', '5QG330416', '9LF883729', '6RG865459', '8QT278169', '9ZP219331']\n",
      "[2000, 2000, 2000, 2000, 500, 500, 500, 200, 200, 200, 200, 200, 200, 200, 200, 100, 100, 50, 50, 50, 20, 20, 20, 20, 20, 20, 20, 20, 20, 20, 20, 20, 20, 10, 10, 10, 10, 10, 10, 10, 10, 10, 10, 10, 10, 10, 10, 10, 10, 10, 10, 10, 10, 10]\n"
     ]
    }
   ],
   "source": [
    "import random\n",
    "\n",
    "saved_value_index = [4, 3, 8, 2, 3, 13, 21]\n",
    "#saved_value_index = [2, 1, 0, 0, 0, 0, 0]\n",
    "value = (2000, 500, 200, 100, 50, 20, 10)\n",
    "\n",
    "numbers = [1, 2, 3, 4, 5, 6, 7, 8, 9, 0]\n",
    "characters = [\"A\", \"B\", \"C\", \"D\", \"E\", \"F\", \"G\", \"H\", \"I\", \"J\", \"K\", \"L\", \"M\", \"N\", \"O\", \"P\", \"Q\", \"R\", \"S\", \"T\", \"U\", \"V\", \"W\", \"X\", \"Y\", \"Z\",]\n",
    "\n",
    "consolidated_random_created_SNO_container = []\n",
    "consolidated_SNO_value_map_container = []\n",
    "\n",
    "for saved_value_index_length in range(len(saved_value_index)):\n",
    "    for iteration_index_value in range(saved_value_index[saved_value_index_length]):\n",
    "        consolidated_SNO_value_map_container.append(value[saved_value_index_length])\n",
    "        sno = \"\"\n",
    "        for i in range(9):\n",
    "            if i == 1 or i == 2:\n",
    "                temp = random.choice(characters)\n",
    "            else:\n",
    "                temp = random.choice(numbers)\n",
    "            sno = sno + str(temp)\n",
    "        consolidated_random_created_SNO_container.append(sno)\n",
    "print(consolidated_random_created_SNO_container)\n",
    "print(consolidated_SNO_value_map_container)"
   ]
  },
  {
   "cell_type": "code",
   "execution_count": 30,
   "metadata": {},
   "outputs": [
    {
     "name": "stdout",
     "output_type": "stream",
     "text": [
      "1\n"
     ]
    }
   ],
   "source": [
    "a = 1\n",
    "print(str(a))"
   ]
  },
  {
   "cell_type": "code",
   "execution_count": null,
   "metadata": {},
   "outputs": [],
   "source": []
  }
 ],
 "metadata": {
  "kernelspec": {
   "display_name": "Python 3",
   "language": "python",
   "name": "python3"
  },
  "language_info": {
   "codemirror_mode": {
    "name": "ipython",
    "version": 3
   },
   "file_extension": ".py",
   "mimetype": "text/x-python",
   "name": "python",
   "nbconvert_exporter": "python",
   "pygments_lexer": "ipython3",
   "version": "3.8.3"
  }
 },
 "nbformat": 4,
 "nbformat_minor": 4
}
