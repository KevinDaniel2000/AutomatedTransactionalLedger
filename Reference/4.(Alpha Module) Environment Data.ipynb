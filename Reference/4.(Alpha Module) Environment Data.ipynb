{
 "cells": [
  {
   "cell_type": "code",
   "execution_count": 1,
   "metadata": {},
   "outputs": [],
   "source": [
    "import matplotlib.pyplot as plt\n",
    "import cv2\n",
    "import os\n",
    "import numpy as np\n",
    "from datetime import datetime"
   ]
  },
  {
   "cell_type": "code",
   "execution_count": 2,
   "metadata": {},
   "outputs": [],
   "source": [
    "def ENVIRONMENT_DATA_GATHERING(suspect_condition):\n",
    "    def location():\n",
    "        shop_code = \"001\"\n",
    "        area = \"Kolathur\"\n",
    "        district = \"Chennai\"\n",
    "        state = \"TamilNadu\"\n",
    "        pin = \"600099\"\n",
    "        address_location = shop_code + \"|\" + area + \"|\" + district + \"|\" + state + \"|\" + pin\n",
    "        return address_location\n",
    "        \n",
    "    def date_time():\n",
    "        initiate = datetime.now()\n",
    "        current_date = initiate.strftime(\"%d:%m:%Y:%A\")\n",
    "        current_time = initiate.strftime(\"%H:%M:%S:%p\")\n",
    "        return current_date, current_time\n",
    "    \n",
    "    # IMAGE\n",
    "    def image_capture():\n",
    "        videoCaptureObject = cv2.VideoCapture(0)\n",
    "        condition = True\n",
    "        while(condition):\n",
    "            ret,one_frame = videoCaptureObject.read()\n",
    "            cv2.imwrite(\"Suspect_Image.jpg\",one_frame)\n",
    "            condition = False\n",
    "        videoCaptureObject.release()\n",
    "        cv2.destroyAllWindows()\n",
    "        os.remove(\"C:/Users/kevin/Suspect_Image.jpg\")    \n",
    "        return one_frame\n",
    "    \n",
    "    if suspect_condition == 0:   \n",
    "        date, time = date_time()\n",
    "        address = location()\n",
    "        return date, time, None, address\n",
    "    \n",
    "    elif suspect_condition == 1:\n",
    "        date, time = date_time()\n",
    "        captured_image = image_capture()\n",
    "        address = location()\n",
    "        return date, time, captured_image, address"
   ]
  },
  {
   "cell_type": "code",
   "execution_count": 3,
   "metadata": {},
   "outputs": [],
   "source": [
    "global SUSPECT_IMAGE_NUMBER, SUSPECT_IMAGE_ADDRESS\n",
    "SUSPECT_IMAGE_NUMBER = 0\n",
    "SUSPECT_IMAGE_ADDRESS = \"\""
   ]
  },
  {
   "cell_type": "code",
   "execution_count": 4,
   "metadata": {},
   "outputs": [
    {
     "name": "stdout",
     "output_type": "stream",
     "text": [
      "001|Kolathur|Chennai|TamilNadu|600099\n",
      "Date = 25:10:2021:Monday\n",
      "Time = 11:52:20:AM\n",
      "Location = 001|Kolathur|Chennai|TamilNadu|600099\n"
     ]
    }
   ],
   "source": [
    "# 0 - non image\n",
    "# 1 - with image\n",
    "current_date, current_time, suspect_image_cpatured, current_address = ENVIRONMENT_DATA_GATHERING(0)\n",
    "dummy = np.array([1, 2, 3, 4, 5])\n",
    "\n",
    "print(\"Date =\", current_date)\n",
    "print(\"Time =\", current_time)\n",
    "print(\"Location =\", current_address)\n",
    "if type(suspect_image_cpatured) == type(dummy):\n",
    "    plt.title(\"SUSPECT IMAGE\")\n",
    "    plt.imshow(cv2.cvtColor(suspect_image_cpatured, cv2.COLOR_BGR2RGB))\n",
    "    temp_image_address_holder = \"C:/Users/kevin/Desktop/TEST/SUSPECT_NO_\" + str((SUSPECT_IMAGE_NUMBER)+1) + \".jpeg\"\n",
    "    cv2.imwrite(temp_image_address_holder, suspect_image_cpatured)\n",
    "    SUSPECT_IMAGE_NUMBER = SUSPECT_IMAGE_NUMBER + 1\n",
    "    SUSPECT_IMAGE_ADDRESS = \"\"\n",
    "    SUSPECT_IMAGE_ADDRESS = temp_image_address_holder\n",
    "else:\n",
    "    pass"
   ]
  },
  {
   "cell_type": "code",
   "execution_count": null,
   "metadata": {},
   "outputs": [],
   "source": []
  }
 ],
 "metadata": {
  "kernelspec": {
   "display_name": "Python 3",
   "language": "python",
   "name": "python3"
  },
  "language_info": {
   "codemirror_mode": {
    "name": "ipython",
    "version": 3
   },
   "file_extension": ".py",
   "mimetype": "text/x-python",
   "name": "python",
   "nbconvert_exporter": "python",
   "pygments_lexer": "ipython3",
   "version": "3.8.3"
  }
 },
 "nbformat": 4,
 "nbformat_minor": 4
}
